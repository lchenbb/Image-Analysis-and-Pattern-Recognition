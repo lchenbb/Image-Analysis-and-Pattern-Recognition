{
 "cells": [
  {
   "cell_type": "markdown",
   "metadata": {},
   "source": [
    "# [IAPR 2019:][iapr2019] Lab 2 ‒  Object description\n",
    "\n",
    "**Author:** Elisabetta Pagliara, Liangwei Chen\n",
    "**Due date:** 19.04.2019\n",
    "\n",
    "[iapr2019]: https://github.com/LTS5/iapr-2019"
   ]
  },
  {
   "cell_type": "markdown",
   "metadata": {},
   "source": [
    "## Extract relevant data\n",
    "We first need to extract the `lab-02-data.tar.gz` archive.\n",
    "To this end, we use the [tarfile] module from the Python standard library.\n",
    "\n",
    "[tarfile]: https://docs.python.org/3.6/library/tarfile.html"
   ]
  },
  {
   "cell_type": "code",
   "execution_count": 6,
   "metadata": {},
   "outputs": [],
   "source": [
    "import tarfile\n",
    "import os\n",
    "\n",
    "data_base_path = os.path.join(os.pardir, 'data')\n",
    "data_folder = 'lab-02-data'\n",
    "tar_path = os.path.join(data_base_path, data_folder + '.tar.gz')\n",
    "with tarfile.open(tar_path, mode='r:gz') as tar:\n",
    "    tar.extractall(path=data_base_path)"
   ]
  },
  {
   "cell_type": "markdown",
   "metadata": {},
   "source": [
    "## Description\n",
    "In the `lab-02-data/` folder, you will find 28x28 grey-scale pictures of handwritten \"0\" and \"1\".\n",
    "These digits have been extracted from MNIST dataset (http://yann.lecun.com/exdb/mnist/).\n",
    "\n",
    "Your goal is to extract, from each of those images, a 2-dimensional feature vector (i.e. 2 features) and to plot them all on a 2D graph.\n",
    "If you have chosen good features, the vectors of the \"0\"'s should nicely cluster in one part of the plane and those of the \"1\"'s in another.\n",
    "\n",
    "Please try first the Fourier Descriptors.\n",
    "You can make several attempts: e.g. with and without invariance to rotation, translation, scaling, etc.\n",
    "You can also for instance rotate the images and assess the invariance in rotation.\n",
    "\n",
    "**Note:** for the Fourier descriptors, the u_k signal has to be constructed by following the contour point after point.\n",
    "Some pre-processing (image binarization, possibly some Mathematical Morphology) might be useful.\n",
    "\n",
    "Then feel free to try other features, the more you try, the better it will be (for you)."
   ]
  },
  {
   "cell_type": "markdown",
   "metadata": {},
   "source": [
    "### 1.1 Data visualization"
   ]
  },
  {
   "cell_type": "code",
   "execution_count": 7,
   "metadata": {},
   "outputs": [
    {
     "data": {
      "image/png": "[encoded data removed]",
      "text/plain": [
       "<Figure size 864x216 with 20 Axes>"
      ]
     },
     "metadata": {},
     "output_type": "display_data"
    }
   ],
   "source": [
    "import skimage\n",
    "from skimage.io import imread_collection\n",
    "import matplotlib.pyplot as plt\n",
    "%matplotlib inline\n",
    "\n",
    "# Load images\n",
    "data_base_path = os.path.join(os.pardir, 'data')\n",
    "data_folder = 'lab-02-data'\n",
    "#  Load zeros\n",
    "zeros_path = os.path.join(data_base_path, data_folder, '0')\n",
    "zeros_names = [nm for nm in os.listdir(zeros_path) if '.png' in nm]  # make sure to only load .png\n",
    "zeros_names.sort()  # sort file names\n",
    "ic = skimage.io.imread_collection([os.path.join(zeros_path, nm) for nm in zeros_names])\n",
    "zeros_im = skimage.io.concatenate_images(ic)\n",
    "#  Load ones\n",
    "ones_path = os.path.join(data_base_path, data_folder, '1')\n",
    "ones_names = [nm for nm in os.listdir(ones_path) if '.png' in nm]  # make sure to only load .png\n",
    "ones_names.sort()  # sort file names\n",
    "ic = skimage.io.imread_collection(([os.path.join(ones_path, nm) for nm in ones_names]))\n",
    "ones_im = skimage.io.concatenate_images(ic)\n",
    "\n",
    "# Plot images\n",
    "fig, axes = plt.subplots(2, len(zeros_im), figsize=(12, 3))\n",
    "for ax, im, nm in zip(axes[0], zeros_im, zeros_names):\n",
    "    ax.imshow(im, cmap='gray')\n",
    "    ax.axis('off')\n",
    "    ax.set_title(nm)\n",
    "for ax, im, nm in zip(axes[1], ones_im, ones_names):\n",
    "    ax.imshow(im, cmap='gray')\n",
    "    ax.axis('off')\n",
    "    ax.set_title(nm)"
   ]
  },
  {
   "cell_type": "markdown",
   "metadata": {},
   "source": [
    "### 1.2 Fourier descriptors\n",
    "Add your implementation and discussion"
   ]
  },
  {
   "cell_type": "code",
   "execution_count": 8,
   "metadata": {},
   "outputs": [],
   "source": [
    "# Necessary libraries\n",
    "import cv2\n",
    "import numpy as np"
   ]
  },
  {
   "cell_type": "code",
   "execution_count": 50,
   "metadata": {},
   "outputs": [],
   "source": [
    "def find_fourier_descriptor(img, l = 1):\n",
    "    \"\"\"\n",
    "    Find the l-th fourier descriptor for given img\n",
    "    Params: img: np.array\n",
    "            l: int\n",
    "    Return: (x, y)\n",
    "    \"\"\"\n",
    "\n",
    "    # Get test img\n",
    "    test_img = img\n",
    "\n",
    "    # Convert gray img to binary img\n",
    "    thrs = (test_img > 0) * 255\n",
    "    thrs = thrs.astype(np.uint8)\n",
    "\n",
    "    # Find contour\n",
    "    contours, hier = cv2.findContours(thrs, cv2.RETR_TREE, cv2.CHAIN_APPROX_NONE)\n",
    "\n",
    "    # For simplicity we only take the longest contour\n",
    "    contour = sorted(contours, key = lambda x: len(x))[-1]\n",
    "\n",
    "    # Normalization\n",
    "    contour = contour.reshape(-1, 2).T\n",
    "\n",
    "    contour -= np.mean(contour, axis = 1).astype(np.int).reshape(2, 1)\n",
    "\n",
    "    # Get length of contour\n",
    "    N = len(contour[0])\n",
    "\n",
    "    # Get real part of contour\n",
    "    real = contour[0]\n",
    "\n",
    "    # Get imaginary part of contour\n",
    "    imginary = contour[1] * 1j\n",
    "\n",
    "    # Build Fourier descriptor for the contour\n",
    "\n",
    "    # First Fourier descriptor\n",
    "    f = np.sum((real + imginary) * np.exp(-2 * np.pi * l * 1j / N * np.arange(N)))\n",
    "\n",
    "    # Second Fourier descriptor\n",
    "    # f2 = np.sum((real + imginary) * np.exp(2 * np.pi * 1j / N * np.arange(0, 2 * N, 2)))\n",
    "\n",
    "    # Return real and imaginary part of f1\n",
    "    return f.real, f.imag"
   ]
  },
  {
   "cell_type": "code",
   "execution_count": 263,
   "metadata": {},
   "outputs": [],
   "source": [
    "# Get 1st fourier descriptor for all img with label zero\n",
    "zero_f1 = np.asarray([find_fourier_descriptor(img) for img in zeros_im])"
   ]
  },
  {
   "cell_type": "code",
   "execution_count": 264,
   "metadata": {},
   "outputs": [],
   "source": [
    "# Get 1st fourier descriptor for all img with label one\n",
    "one_f1 = np.asarray([find_fourier_descriptor(img) for img in ones_im])"
   ]
  },
  {
   "cell_type": "code",
   "execution_count": 265,
   "metadata": {},
   "outputs": [
    {
     "data": {
      "text/plain": [
       "Text(0, 0.5, 'f1 imaginary')"
      ]
     },
     "execution_count": 265,
     "metadata": {},
     "output_type": "execute_result"
    },
    {
     "data": {
      "image/png": "[encoded data removed]",
      "text/plain": [
       "<Figure size 720x432 with 1 Axes>"
      ]
     },
     "metadata": {},
     "output_type": "display_data"
    }
   ],
   "source": [
    "# Visualize the results\n",
    "fig = plt.figure(figsize = (10, 6))\n",
    "ax = fig.add_subplot(111)\n",
    "ax.scatter(zero_f1[:, 0], zero_f1[:, 1], c = 'steelblue', label = 'Zero')\n",
    "ax.scatter(one_f1[:, 0], one_f1[:, 1], c = 'red', label = 'One')\n",
    "ax.legend()\n",
    "ax.grid(True)\n",
    "ax.set_xlabel('f1 real')\n",
    "ax.set_ylabel('f1 imaginary')"
   ]
  },
  {
   "cell_type": "markdown",
   "metadata": {},
   "source": [
    "To check the robustness of our feature generator, we conduct rotation to the img. Notice that translation is not necessary since we have done normalization in our implementation."
   ]
  },
  {
   "cell_type": "code",
   "execution_count": 13,
   "metadata": {},
   "outputs": [],
   "source": [
    "# Get center \n",
    "center = zeros_im[0].shape\n",
    "center = (center[0] / 2, center[1] / 2)"
   ]
  },
  {
   "cell_type": "code",
   "execution_count": 14,
   "metadata": {},
   "outputs": [],
   "source": [
    "def rotate_img(img, deg = 90):\n",
    "    \"\"\"\n",
    "    Rotate img by given deg\n",
    "    Param:  img: np.array\n",
    "            deg: int\n",
    "    Return: rorated_img: np.array\n",
    "    \"\"\"\n",
    "    \n",
    "    # Get center of image\n",
    "    center = img.shape\n",
    "    center = (center[0] / 2, center[1] / 2)\n",
    "    \n",
    "    return cv2.warpAffine(img, cv2.getRotationMatrix2D(center, deg, 1.0), img.shape)"
   ]
  },
  {
   "cell_type": "code",
   "execution_count": 15,
   "metadata": {},
   "outputs": [],
   "source": [
    "# Rotation\n",
    "rotated_zeros_im = [rotate_img(img, deg) for img in zeros_im \\\n",
    "                                           for deg in [90, 180, 270]]\n",
    "\n",
    "rotated_ones_im = [rotate_img(img, deg) for img in ones_im \\\n",
    "                                          for deg in [90, 180, 270]]"
   ]
  },
  {
   "cell_type": "code",
   "execution_count": 227,
   "metadata": {},
   "outputs": [
    {
     "data": {
      "text/plain": [
       "Text(0.5, 1.0, 'Original img')"
      ]
     },
     "execution_count": 227,
     "metadata": {},
     "output_type": "execute_result"
    },
    {
     "data": {
      "image/png": "[encoded data removed]",
      "text/plain": [
       "<Figure size 720x288 with 2 Axes>"
      ]
     },
     "metadata": {},
     "output_type": "display_data"
    }
   ],
   "source": [
    "# Visualize rotation \n",
    "fig = plt.figure(figsize = (10, 4))\n",
    "ax = fig.add_subplot(121)\n",
    "ax.imshow(rotated_zeros_im[0])\n",
    "ax.set_title('Rotated img')\n",
    "ax = fig.add_subplot(122)\n",
    "ax.imshow(zeros_im[0])\n",
    "ax.set_title('Original img')"
   ]
  },
  {
   "cell_type": "code",
   "execution_count": 60,
   "metadata": {},
   "outputs": [],
   "source": [
    "# Compute f1 for augmented zeros images\n",
    "zero_f1_aug = np.asarray([find_fourier_descriptor(img) for img in rotated_zeros_im + list(zeros_im)])\n",
    "\n",
    "# Compute f1 for augmented ones images\n",
    "one_f1_aug = np.asarray([find_fourier_descriptor(img) for img in rotated_ones_im + list(ones_im)])"
   ]
  },
  {
   "cell_type": "code",
   "execution_count": 261,
   "metadata": {},
   "outputs": [
    {
     "data": {
      "text/plain": [
       "Text(0, 0.5, 'f1 imaginary')"
      ]
     },
     "execution_count": 261,
     "metadata": {},
     "output_type": "execute_result"
    },
    {
     "data": {
      "image/png": "[encoded data removed]",
      "text/plain": [
       "<Figure size 720x432 with 1 Axes>"
      ]
     },
     "metadata": {},
     "output_type": "display_data"
    }
   ],
   "source": [
    "# Visualize the results\n",
    "fig = plt.figure(figsize = (10, 6))\n",
    "ax = fig.add_subplot(111)\n",
    "ax.scatter(zero_f1_aug[:, 0], zero_f1_aug[:, 1], c = 'steelblue', label = 'zero')\n",
    "ax.scatter(one_f1_aug[:, 0], one_f1_aug[:, 1], c = 'red', label = 'one')\n",
    "ax.legend()\n",
    "ax.grid(True)\n",
    "ax.set_xlabel('f1 real')\n",
    "ax.set_ylabel('f1 imaginary')"
   ]
  },
  {
   "cell_type": "markdown",
   "metadata": {},
   "source": [
    "The distribution of zeros are closed origin while the distribution of ones are away from origin.\n",
    "\n",
    "This is exactly what we expect based on observing the visualization of two classes before rotating.\n",
    "\n",
    "However, we may want invariance to rotation and even scaling to ease the workload of the classifier.\n",
    "\n",
    "We achieve our goal by setting the the attribute to be (|f1|, |f2|) since they are invariant to rotation."
   ]
  },
  {
   "cell_type": "code",
   "execution_count": 229,
   "metadata": {},
   "outputs": [],
   "source": [
    "# Get f2, f3 for rotated and original imgs\n",
    "zero_f2 = [find_fourier_descriptor(img, 2) for img in rotated_zeros_im + list(zeros_im)]\n",
    "\n",
    "one_f2 = [find_fourier_descriptor(img, 2) for img in rotated_ones_im + list(ones_im)]\n",
    "\n",
    "zero_f3 = [find_fourier_descriptor(img, 3) for img in rotated_zeros_im + list(zeros_im)]\n",
    "\n",
    "one_f3 = [find_fourier_descriptor(img, 3) for img in rotated_ones_im + list(ones_im)]"
   ]
  },
  {
   "cell_type": "code",
   "execution_count": 230,
   "metadata": {},
   "outputs": [],
   "source": [
    "# Build |f1|, |f2|\n",
    "zero_first_feature = np.sum(np.square(zero_f1_aug), axis = 1) \n",
    "\n",
    "one_first_feature = np.sum(np.square(one_f1_aug), axis = 1) \n",
    "\n",
    "zero_second_feature = np.sum(np.square(zero_f2), axis = 1) \n",
    "\n",
    "one_second_feature = np.sum(np.square(one_f2), axis = 1) "
   ]
  },
  {
   "cell_type": "code",
   "execution_count": 231,
   "metadata": {},
   "outputs": [
    {
     "data": {
      "image/png": "[encoded data removed]",
      "text/plain": [
       "<Figure size 720x432 with 1 Axes>"
      ]
     },
     "metadata": {},
     "output_type": "display_data"
    }
   ],
   "source": [
    "# Visualize the distribution of zero and one imgs\n",
    "fig = plt.figure(figsize = (10, 6))\n",
    "ax = fig.add_subplot(111)\n",
    "ax.scatter(zero_first_feature, zero_second_feature, c = 'steelblue', label = 'zero')\n",
    "ax.scatter(one_first_feature, one_second_feature, c = 'red', label = 'one')\n",
    "ax.legend()\n",
    "ax.set_xlabel('Dimension 1: |f2|')\n",
    "ax.set_ylabel('Dimension 2: |f3|')\n",
    "ax.grid(True)"
   ]
  },
  {
   "cell_type": "markdown",
   "metadata": {},
   "source": [
    "Notice that even though we rotate the imgs, all the rotated img have the same features as their original img. This successfully ease the load of our potential classifier. Meanwhile, the distinction between two class is still large enough for train a good classifier."
   ]
  },
  {
   "cell_type": "markdown",
   "metadata": {},
   "source": [
    "To be even more aggresive, what about we want the feature to be also invariant w.r.t. scaling?\n",
    "\n",
    "Notice that |fi/fj| are invariant to both scaling and rotation."
   ]
  },
  {
   "cell_type": "code",
   "execution_count": 89,
   "metadata": {},
   "outputs": [],
   "source": [
    "# Build scaled img\n",
    "\n",
    "# Get height and width\n",
    "height, width = zeros_im.shape[1: 3]\n",
    "\n",
    "# Build scaled img for zeros\n",
    "scaled_zero_im = [cv2.resize(img, (2 * width, 2 * height), interpolation = cv2.INTER_CUBIC)\n",
    "                  for img in zeros_im]\n",
    "\n",
    "# Build scaled img for ones\n",
    "scaled_one_im = [cv2.resize(img, (2 * width, 2 * height), interpolation = cv2.INTER_CUBIC)\n",
    "                for img in ones_im]"
   ]
  },
  {
   "cell_type": "code",
   "execution_count": 225,
   "metadata": {},
   "outputs": [
    {
     "data": {
      "text/plain": [
       "Text(0.5, 1.0, 'Original img')"
      ]
     },
     "execution_count": 225,
     "metadata": {},
     "output_type": "execute_result"
    },
    {
     "data": {
      "image/png": "[encoded data removed]",
      "text/plain": [
       "<Figure size 720x288 with 2 Axes>"
      ]
     },
     "metadata": {},
     "output_type": "display_data"
    }
   ],
   "source": [
    "# Visualize scaled img and original img\n",
    "fig = plt.figure(figsize = (10, 4))\n",
    "ax = fig.add_subplot(121)\n",
    "ax.imshow(scaled_zero_im[0])\n",
    "ax.set_title('Scaled img')\n",
    "ax = fig.add_subplot(122)\n",
    "ax.imshow(zeros_im[0])\n",
    "ax.set_title('Original img')"
   ]
  },
  {
   "cell_type": "code",
   "execution_count": 272,
   "metadata": {},
   "outputs": [],
   "source": [
    "# Rebuild f1, f2, f3 for scaled and original imgs\n",
    "zero_f1 = [find_fourier_descriptor(img, 1) for img in scaled_zero_im + list(zeros_im)]\n",
    "\n",
    "one_f1 = [find_fourier_descriptor(img, 1) for img in scaled_one_im + list(ones_im)]\n",
    "\n",
    "zero_f2 = [find_fourier_descriptor(img, 2) for img in scaled_zero_im + list(zeros_im)]\n",
    "\n",
    "one_f2 = [find_fourier_descriptor(img, 2) for img in scaled_one_im + list(ones_im)]\n",
    "\n",
    "zero_f3 = [find_fourier_descriptor(img, 3) for img in scaled_zero_im + list(zeros_im)]\n",
    "\n",
    "one_f3 = [find_fourier_descriptor(img, 3) for img in scaled_one_im + list(ones_im)]"
   ]
  },
  {
   "cell_type": "code",
   "execution_count": 273,
   "metadata": {},
   "outputs": [],
   "source": [
    "# Build feature invarant to both scaling and rotation\n",
    "zero_first_feature = np.sqrt(np.sum(np.square(zero_f1), axis = 1)) / \\\n",
    "                        np.sqrt(np.sum(np.square(zero_f3), axis = 1)) \n",
    "                        \n",
    "one_first_feature = np.sqrt(np.sum(np.square(one_f1), axis = 1)) / \\\n",
    "                        np.sqrt(np.sum(np.square(one_f3), axis = 1))\n",
    "\n",
    "zero_second_feature = np.sqrt(np.sum(np.square(zero_f2), axis = 1)) / \\\n",
    "                        np.sqrt(np.sum(np.square(zero_f3), axis = 1)) \n",
    "                    \n",
    "one_second_feature = np.sqrt(np.sum(np.square(one_f2), axis = 1)) / \\\n",
    "                        np.sqrt(np.sum(np.square(one_f3), axis = 1))"
   ]
  },
  {
   "cell_type": "code",
   "execution_count": 274,
   "metadata": {},
   "outputs": [
    {
     "data": {
      "image/png": "[encoded data removed]",
      "text/plain": [
       "<Figure size 720x432 with 1 Axes>"
      ]
     },
     "metadata": {},
     "output_type": "display_data"
    }
   ],
   "source": [
    "# Visualize the distribution of zero and one imgs\n",
    "fig = plt.figure(figsize = (10, 6))\n",
    "ax = fig.add_subplot(111)\n",
    "ax.scatter(zero_first_feature, zero_second_feature, c = 'steelblue', label = 'zero')\n",
    "ax.scatter(one_first_feature, one_second_feature, c = 'red', label = 'one')\n",
    "ax.legend()\n",
    "ax.set_xlabel('Dimension 1: |f1/f3|')\n",
    "ax.set_ylabel('Dimension 2: |f2/f3|')\n",
    "ax.grid(True)"
   ]
  },
  {
   "cell_type": "markdown",
   "metadata": {},
   "source": [
    "We found that the results are mixed and thus not useful for classifier building.\n",
    "\n",
    "This may attribute to the fact that our 'scaling' are not exactly 'scaling' in the sense that we change the sizes of img.\n",
    "\n",
    "Due to the fact that pixel coordinate can only take integer values, we are not able to do shrinking easily.\n",
    "Besides, expanding may also be hard since one need to make sure the expanded object has closed shape instead of simply multiply a factor to object coordinates.\n",
    "\n",
    "At the end of our analysis, we conclude that a the amplitudes of the first and second fourier descriptor are a powerful features for classification."
   ]
  },
  {
   "cell_type": "markdown",
   "metadata": {},
   "source": [
    "### 1.3 Additional method(s)\n",
    "Add your implementation and discussion"
   ]
  },
  {
   "cell_type": "code",
   "execution_count": 24,
   "metadata": {},
   "outputs": [],
   "source": [
    "# Import necessary libraries\n",
    "import keras\n",
    "from keras.layers import Dense\n",
    "from keras import activations\n",
    "from keras.models import Sequential\n",
    "from keras.utils import np_utils\n",
    "from keras.layers.core import Dense, Dropout, Activation\n",
    "\n",
    "import scipy\n",
    "\n",
    "from sklearn.decomposition import PCA\n",
    "from skimage.morphology import skeletonize\n",
    "from skimage.util import invert\n",
    "from skimage.measure import regionprops\n",
    "\n",
    "import pandas as pd\n",
    "import matplotlib.patches as mpatches\n",
    "\n",
    "from scipy.stats import entropy"
   ]
  },
  {
   "cell_type": "markdown",
   "metadata": {},
   "source": [
    "### 1.3.1 Chamfer Distance"
   ]
  },
  {
   "cell_type": "markdown",
   "metadata": {},
   "source": [
    "In this section we will describe a contour based description: the Chamfer Distance. First of all, we select two templates for class 1 and 0 by visual detection( small number of training data allows to do it); then, we define their skeleton and applied the function 'distance_transform' to obtain the distance map.\n",
    "\n",
    "\n",
    "\n",
    "The other images of one and zeros are then all compared with these two distance map of the templates and a measure of similariy is extracted, taking into account the rotation and traslation invariance."
   ]
  },
  {
   "cell_type": "code",
   "execution_count": 240,
   "metadata": {},
   "outputs": [
    {
     "data": {
      "image/png": "[encoded data removed]",
      "text/plain": [
       "<Figure size 576x576 with 2 Axes>"
      ]
     },
     "metadata": {},
     "output_type": "display_data"
    }
   ],
   "source": [
    "plt.rcParams['figure.figsize'] = (8.0, 8.0)\n",
    "\n",
    "#template for zeros\n",
    "image_zeros = (zeros_im[8,:,:])\n",
    "image=np.ones((image_zeros.shape[0],image_zeros.shape[1]))\n",
    "contours, hierarchy = cv2.findContours(image_zeros, cv2.RETR_TREE, cv2.CHAIN_APPROX_SIMPLE)\n",
    "skeleton=cv2.drawContours(image, contours, -1, (255,255,255), 1)\n",
    "skeleton=np.where(skeleton==255,0,1)\n",
    "skeleton=np.pad(skeleton, (15, 15), 'edge')\n",
    "distance_map_zeros=scipy.ndimage.morphology.distance_transform_cdt(skeleton)\n",
    "\n",
    "plt.subplot(1,2,1)\n",
    "plt.imshow(distance_map_zeros)\n",
    "plt.title('Distance map for zeros')\n",
    "\n",
    "\n",
    "#template for ones\n",
    "image_ones = (ones_im[7,:,:])\n",
    "image=np.ones((image_ones.shape[0],image_ones.shape[1]))\n",
    "contours, hierarchy = cv2.findContours(image_ones, cv2.RETR_TREE, cv2.CHAIN_APPROX_SIMPLE)\n",
    "skeleton=cv2.drawContours(image, contours, -1, (255,255,255), 1)\n",
    "#plt.imshow(skeleton,cmap='gray')\n",
    "\n",
    "skeleton=np.where(skeleton==255,0,1)\n",
    "skeleton=np.pad(skeleton, (15, 15), 'edge')# adding padding to prevent the problme of rotation\n",
    "distance_map_ones=scipy.ndimage.morphology.distance_transform_cdt(skeleton)\n",
    "\n",
    "plt.subplot(1,2,2)\n",
    "plt.imshow(distance_map_ones)\n",
    "plt.title('Distance map for ones')\n",
    "plt.show()"
   ]
  },
  {
   "cell_type": "markdown",
   "metadata": {},
   "source": [
    "Now, let's calculate the similarity between the other images and the two templates above.\n",
    "We take the optimal trasformation of the images that minimizes the distance respect to both the templates. The distance will be the features used to classify the images.\n"
   ]
  },
  {
   "cell_type": "code",
   "execution_count": 241,
   "metadata": {},
   "outputs": [],
   "source": [
    "def similarity(input1,input2,previous_distance,angle,i,j):\n",
    "    \n",
    "    distance=np.sum(input1*input2)\n",
    "    \n",
    "    if distance<previous_distance:\n",
    "           return distance,angle,i,j\n",
    "    else: \n",
    "          return None"
   ]
  },
  {
   "cell_type": "code",
   "execution_count": 242,
   "metadata": {},
   "outputs": [],
   "source": [
    "#zeros and ones\n",
    "def features_calculation(distance_map_zeros,shift_x,shift_y,skeleton,m):\n",
    "    \n",
    "    previous_distance=np.sum(distance_map_zeros.ravel()) #max possible value\n",
    "    \n",
    "    #traslation\n",
    "    for i in range(0,distance_map_zeros.shape[0]-shift_x):\n",
    "        \n",
    "        for j in range(0,distance_map_zeros.shape[1]-shift_y):\n",
    "            \n",
    "            for angle in np.arange(0,360,10):\n",
    "                \n",
    "                img_rot = skimage.transform.rotate((skeleton.astype('float')),angle,resize=True)\n",
    "                img_rot=np.where(img_rot>=np.mean(img_rot),1,0)#super bad but it's done to have binary images\n",
    "                \n",
    "                if (img_rot.shape> skeleton.shape)& ((i+img_rot.shape[0]<=distance_map_zeros.shape[0]) &( j+img_rot.shape[1]<=distance_map_zeros.shape[1])) :\n",
    "                   \n",
    "                    if similarity(img_rot,distance_map_zeros[i:i+img_rot.shape[0],j:j+img_rot.shape[1]],previous_distance,angle,i,j)!=None :\n",
    "                        min_distance,min_angle,min_trasl_x,min_trasl_y= similarity(img_rot,distance_map_zeros[i:i+img_rot.shape[0],j:j+img_rot.shape[1]],previous_distance,angle,i,j)\n",
    "                        previous_distance=min_distance\n",
    "                        \n",
    "                elif (img_rot.shape== skeleton.shape):\n",
    "                   \n",
    "                    if (similarity(img_rot,distance_map_zeros[i:i+shift_x,j:j+shift_y],previous_distance,angle,i,j)!=None): \n",
    "                        min_distance,min_angle,min_trasl_x,min_trasl_y= similarity(img_rot,distance_map_zeros[i:i+shift_x,j:j+shift_y],previous_distance,angle,i,j)\n",
    "                        previous_distance=min_distance\n",
    "            #\n",
    "    print('Image: 0{}, min_distance:{}, angle:{}, traslation:[{},{}]'.format(m,previous_distance,min_angle,min_trasl_x,min_trasl_y ))            \n",
    "    return min_distance"
   ]
  },
  {
   "cell_type": "code",
   "execution_count": 247,
   "metadata": {},
   "outputs": [
    {
     "name": "stdout",
     "output_type": "stream",
     "text": [
      "Image: 00, min_distance:104, angle:180, traslation:[19,20]\n",
      "Image: 00, min_distance:132, angle:0, traslation:[19,21]\n",
      "Image: 01, min_distance:111, angle:0, traslation:[20,23]\n",
      "Image: 01, min_distance:171, angle:0, traslation:[19,21]\n",
      "Image: 02, min_distance:124, angle:0, traslation:[18,19]\n",
      "Image: 02, min_distance:181, angle:0, traslation:[19,20]\n",
      "Image: 03, min_distance:118, angle:180, traslation:[18,20]\n",
      "Image: 03, min_distance:111, angle:180, traslation:[19,23]\n",
      "Image: 04, min_distance:111, angle:180, traslation:[18,20]\n",
      "Image: 04, min_distance:124, angle:180, traslation:[19,21]\n",
      "Image: 05, min_distance:87, angle:270, traslation:[20,20]\n",
      "Image: 05, min_distance:227, angle:0, traslation:[19,19]\n",
      "Image: 06, min_distance:79, angle:0, traslation:[19,22]\n",
      "Image: 06, min_distance:249, angle:180, traslation:[20,21]\n",
      "Image: 07, min_distance:115, angle:90, traslation:[19,20]\n",
      "Image: 07, min_distance:203, angle:180, traslation:[19,20]\n",
      "Image: 08, min_distance:0, angle:0, traslation:[19,20]\n",
      "Image: 08, min_distance:304, angle:90, traslation:[19,19]\n",
      "Image: 09, min_distance:105, angle:180, traslation:[19,21]\n",
      "Image: 09, min_distance:152, angle:0, traslation:[19,21]\n",
      "Image: 00, min_distance:55, angle:0, traslation:[16,18]\n",
      "Image: 00, min_distance:16, angle:0, traslation:[19,23]\n",
      "Image: 01, min_distance:52, angle:0, traslation:[20,19]\n",
      "Image: 01, min_distance:46, angle:320, traslation:[20,20]\n",
      "Image: 02, min_distance:42, angle:180, traslation:[19,35]\n",
      "Image: 02, min_distance:45, angle:330, traslation:[19,23]\n",
      "Image: 03, min_distance:44, angle:180, traslation:[19,21]\n",
      "Image: 03, min_distance:41, angle:150, traslation:[19,23]\n",
      "Image: 04, min_distance:51, angle:0, traslation:[17,17]\n",
      "Image: 04, min_distance:10, angle:0, traslation:[19,23]\n",
      "Image: 05, min_distance:117, angle:0, traslation:[19,20]\n",
      "Image: 05, min_distance:132, angle:180, traslation:[21,21]\n",
      "Image: 06, min_distance:43, angle:0, traslation:[19,20]\n",
      "Image: 06, min_distance:38, angle:160, traslation:[19,23]\n",
      "Image: 07, min_distance:52, angle:0, traslation:[16,18]\n",
      "Image: 07, min_distance:0, angle:0, traslation:[19,23]\n",
      "Image: 08, min_distance:68, angle:180, traslation:[17,20]\n",
      "Image: 08, min_distance:69, angle:180, traslation:[19,24]\n",
      "Image: 09, min_distance:80, angle:180, traslation:[19,29]\n",
      "Image: 09, min_distance:112, angle:180, traslation:[19,24]\n"
     ]
    }
   ],
   "source": [
    "\n",
    "features=pd.DataFrame(index=np.arange(0,len(zeros_im)+len(ones_im)), columns=['Features0','Features1'])\n",
    "image=np.ones((image_zeros.shape[0],image_zeros.shape[1]))\n",
    "\n",
    "#all zeros images:\n",
    "for m in range(len(zeros_im)):\n",
    "    #find the contour of the image and threhsolding the contour\n",
    "    contours, hierarchy = cv2.findContours(zeros_im[m,:,:], cv2.RETR_TREE, cv2.CHAIN_APPROX_SIMPLE)\n",
    "    skeleton=cv2.drawContours(image-1, contours, -1, (255,255,255), 1)\n",
    "    skeleton=np.where(skeleton==255,1,0)\n",
    "    for region in regionprops(skeleton):\n",
    "        minr, minc, maxr, maxc = region.bbox\n",
    "    shift_x=np.abs(minr-maxr)\n",
    "    shift_y=np.abs(minc-maxc)\n",
    "    \n",
    "    min_distance=features_calculation(distance_map_zeros,shift_x,shift_y,skeleton[minr:maxr,minc:maxc],m)\n",
    "    features.iloc[m,0]=min_distance\n",
    "    min_distance=features_calculation(distance_map_ones,shift_x,shift_y,skeleton[minr:maxr,minc:maxc],m)\n",
    "    features.iloc[m,1]=min_distance\n",
    "    \n",
    "    image=np.ones((image_zeros.shape[0],image_zeros.shape[1]))\n",
    "    \n",
    "\n",
    "#all the ones images\n",
    "image=np.ones((image_zeros.shape[0],image_zeros.shape[1]))\n",
    "for n in range(len(ones_im)):\n",
    "    \n",
    "#find the contour of the image and threhsolding the contour\n",
    "    contours, hierarchy = cv2.findContours(ones_im[n,:,:], cv2.RETR_TREE, cv2.CHAIN_APPROX_SIMPLE)\n",
    "    skeleton=cv2.drawContours(image-1, contours, -1, (255,255,255), 1)\n",
    "    skeleton=np.where(skeleton==255,1,0)\n",
    "    for region in regionprops(skeleton):\n",
    "        minr, minc, maxr, maxc = region.bbox\n",
    "    shift_x=np.abs(minr-maxr)\n",
    "    shift_y=np.abs(minc-maxc)\n",
    "    \n",
    "    min_distance=features_calculation(distance_map_zeros,shift_x,shift_y,skeleton[minr:maxr,minc:maxc],n)\n",
    "    features.iloc[m+n+1,0]=min_distance\n",
    "    min_distance=features_calculation(distance_map_ones,shift_x,shift_y,skeleton[minr:maxr,minc:maxc],n)\n",
    "    features.iloc[m+n+1,1]=min_distance\n",
    "    image=np.ones((image_zeros.shape[0],image_zeros.shape[1]))"
   ]
  },
  {
   "cell_type": "code",
   "execution_count": 248,
   "metadata": {},
   "outputs": [
    {
     "data": {
      "image/png": "[encoded data removed]",
      "text/plain": [
       "<Figure size 576x576 with 1 Axes>"
      ]
     },
     "metadata": {},
     "output_type": "display_data"
    }
   ],
   "source": [
    "ax=features.iloc[0:len(zeros_im),:].plot.scatter(x='Features0',y='Features1',c='Blue')\n",
    "features.iloc[len(zeros_im)::,:].plot.scatter(x='Features0',y='Features1',c='Red',ax=ax)\n",
    "plt.title('Features space')\n",
    "plt.show()"
   ]
  },
  {
   "cell_type": "code",
   "execution_count": 259,
   "metadata": {},
   "outputs": [
    {
     "data": {
      "text/html": [
       "<div>\n",
       "<style scoped>\n",
       "    .dataframe tbody tr th:only-of-type {\n",
       "        vertical-align: middle;\n",
       "    }\n",
       "\n",
       "    .dataframe tbody tr th {\n",
       "        vertical-align: top;\n",
       "    }\n",
       "\n",
       "    .dataframe thead th {\n",
       "        text-align: right;\n",
       "    }\n",
       "</style>\n",
       "<table border=\"1\" class=\"dataframe\">\n",
       "  <thead>\n",
       "    <tr style=\"text-align: right;\">\n",
       "      <th></th>\n",
       "      <th>Features0</th>\n",
       "      <th>Features1</th>\n",
       "    </tr>\n",
       "  </thead>\n",
       "  <tbody>\n",
       "    <tr>\n",
       "      <th>0</th>\n",
       "      <td>20</td>\n",
       "      <td>22</td>\n",
       "    </tr>\n",
       "    <tr>\n",
       "      <th>1</th>\n",
       "      <td>20</td>\n",
       "      <td>24</td>\n",
       "    </tr>\n",
       "    <tr>\n",
       "      <th>2</th>\n",
       "      <td>19</td>\n",
       "      <td>24</td>\n",
       "    </tr>\n",
       "    <tr>\n",
       "      <th>3</th>\n",
       "      <td>21</td>\n",
       "      <td>22</td>\n",
       "    </tr>\n",
       "    <tr>\n",
       "      <th>4</th>\n",
       "      <td>23</td>\n",
       "      <td>19</td>\n",
       "    </tr>\n",
       "  </tbody>\n",
       "</table>\n",
       "</div>"
      ],
      "text/plain": [
       "   Features0  Features1\n",
       "0         20         22\n",
       "1         20         24\n",
       "2         19         24\n",
       "3         21         22\n",
       "4         23         19"
      ]
     },
     "execution_count": 259,
     "metadata": {},
     "output_type": "execute_result"
    }
   ],
   "source": [
    "# Show features\n",
    "features.head()"
   ]
  },
  {
   "cell_type": "markdown",
   "metadata": {},
   "source": [
    "limitation of the method:\n",
    "\n",
    "1) difficult find a good template, \n",
    "\n",
    "2) tedius resize image and trasform to binary\n",
    "\n",
    "Nevertheless, two clusters are able to be identified. The outlier could be explained by the fact the a one has really different shape from the other ones (not just a single bar)."
   ]
  },
  {
   "cell_type": "markdown",
   "metadata": {},
   "source": [
    "### 1.3.2 Freeman"
   ]
  },
  {
   "cell_type": "code",
   "execution_count": 253,
   "metadata": {},
   "outputs": [],
   "source": [
    "#no approximation because we want the relationship among all the points!!\n",
    "#for the zero there are three contous while for one just one contours, \n",
    "# we should treat them separately !!!\n",
    "import pandas as pd\n",
    "cm=pd.Series([5 ,6 ,7, 4,'nan', 0, 3, 2, 1])\n",
    "\n",
    "freeman_code_zero=[]\n",
    "#for zero, take the one with biggest area\n",
    "for m in range(len(zeros_im)):\n",
    "    max_cont=0\n",
    "    contours, hierarchy = cv2.findContours(zeros_im[m,:,:], cv2.RETR_TREE, cv2.CHAIN_APPROX_NONE)\n",
    "    for i in range(len(contours)):\n",
    "        if max_cont<len(contours[i]):\n",
    "            contours[0]=contours[i]\n",
    "            max_cont=len(contours[0])\n",
    "            \n",
    "    sb=np.roll(contours[0],(-1, -1),axis=(0,1))\n",
    "    delta=sb-contours[0]\n",
    "    if (np.abs(delta[-1][-1][1])>1) | (np.abs(delta[-1][-1][0])>1):\n",
    "        delta=delta[0:len(delta)-1,:]\n",
    "    idx=np.zeros((len(delta)))\n",
    "    for i in range(len(delta)):\n",
    "        idx[i]=3*delta[i][0][1] + delta[i][0][0]+4;\n",
    "\n",
    "    freeman_code_zero.append(cm[idx.astype(int)].values)#remember two for one image\n",
    "\n",
    "\n",
    "\n",
    "#for one , just one cases\n",
    "freeman_code_one=[]\n",
    "for m in range(len(ones_im)):\n",
    "    contours, hierarchy = cv2.findContours(ones_im[m,:,:], cv2.RETR_TREE, cv2.CHAIN_APPROX_NONE)\n",
    "    if (len(contours)>1):\n",
    "        if(len(contours[0])<len(contours[1])):\n",
    "            contours[0]=contours[1]\n",
    "        \n",
    "    sb=np.roll(contours[0],(-1, -1),axis=(0,1))\n",
    "    delta=sb-contours[0]\n",
    "    if (np.abs(delta[-1][-1][1])>1) | (np.abs(delta[-1][-1][0])>1):\n",
    "        delta=delta[0:len(delta)-1,:]\n",
    "    idx=np.zeros((len(delta)))\n",
    "    for i in range(len(delta)):\n",
    "        idx[i]=3*delta[i][0][1] + delta[i][0][0]+4;\n",
    "        \n",
    "    freeman_code_one.insert(m, cm[idx.astype(int)].values)"
   ]
  },
  {
   "cell_type": "code",
   "execution_count": 254,
   "metadata": {},
   "outputs": [],
   "source": [
    "np.set_printoptions(precision=2)\n",
    "# https://en.wikipedia.org/wiki/Wagner%E2%80%93Fischer_algorithm\n",
    "# Original Paper http://citeseerx.ist.psu.edu/viewdoc/download?doi=10.1.1.367.5281&rep=rep1&type=pdf\n",
    "deletion_cost = 1\n",
    "insertion_cost = 1\n",
    "substitution_cost = 1\n",
    "def fisher_wagner(line1, line2):\n",
    "    #print(\"Fisher Wagner Distance: %s => %s\"%(line1,line2))\n",
    "    #print(\"Operations:\")\n",
    "    #print(\"\\ti(X) means that character 'X' gets inserted in the resulting string at the current position\")\n",
    "    #print(\"\\tn(X,X) means that two charcters were equal, no operation required\")\n",
    "    #print(\"\\ts(X,Y) means that the character 'X' gets substituted with 'Y' at the current position \")\n",
    "    #print(\"\\td(X) means that character 'X' gets deleted from the current position\")\n",
    "    #print(\"\\tNote: n(,), the noop for comparing empty string to empty string has been ommitted for clarity\")\n",
    "    # distance matrix\n",
    "    d = np.zeros(shape=(len(line1)+1, len(line2)+1))\n",
    "    ops = np.ndarray(shape=(len(line1)+1, len(line2)+1), dtype=np.dtype('S100') )\n",
    "    ops[:] = \"\"  #clear array\n",
    "    # ops[0,0] = \"n( , )\"\n",
    "    for i in range(1,len(line1)+1):\n",
    "            d[i,0] = d[i-1,0] + deletion_cost # the distance of any first string to an empty second string requires i deletions\n",
    "            ops[i, 0] = \"%sd(%c)\"%(ops[i-1,0],line1[i-1])\n",
    "    for j in range(1,len(line2)+1):\n",
    "            d[0, j] = d[0,j-1] + insertion_cost# the distance of any second string to an empty first string\n",
    "            ops[0,j] = \"%si(%c)\"%(ops[0,j-1],line2[j-1])\n",
    "    #print(\"Cost matrix for empty strings\")\n",
    "    #print(d)\n",
    "    #print(\"Operation matrix for empty strings\")\n",
    "    #print(ops)\n",
    "    for j in range(1,len(line2)+1):\n",
    "        for i in range(1,len(line1)+1):\n",
    "                char1 = line1[i-1] # because strings in python are also zero indexed\n",
    "                char2 = line2[j-1] # because strings in python are also zero indexed\n",
    "                #print(\"\\nStep(i=%i,j=%i)\"%(i, j))\n",
    "                #print(\"Goal: %s => %s\"%(line1[0:i],line2[0:j]))\n",
    "                #print(\"Comparing: '%s' to '%s'\"%(char1, char2))\n",
    "                if char1 == char2:\n",
    "                    #print(\"\\t=> equal, no change required\")\n",
    "                    d[i, j] = d[i-1, j-1]\n",
    "                    ops[i,j]=\"%sn(%c,%c)\"%(ops[i-1, j-1],char1,char2)\n",
    "                else:\n",
    "                    #print(\"\\t=> not equal, need to modify something\")\n",
    "                    del_op_cost = d[i-1,j  ] + deletion_cost     # deletion\n",
    "                    ins_op_cost = d[i  ,j-1] + insertion_cost    # insertion\n",
    "                    subs_op_cost   = d[i-1,j-1] + substitution_cost # substitution_cost\n",
    "                    #print(\"\\tCost of reaching goal via del:  %sd(%c): %i\"%(ops[i-1, j], char1, del_op_cost))\n",
    "                    #print(\"\\tCost of reaching goal via ins:  %si(%c): %i\"%(ops[i ,j-1], char2, ins_op_cost))\n",
    "                    #print(\"\\tCost of reaching goal via sub:  %ss(%c,%c): %i\"%(ops[i-1, j-1], char1, char2, subs_op_cost))\n",
    "                # assign performed operation\n",
    "                    if del_op_cost<ins_op_cost and del_op_cost<subs_op_cost:\n",
    "                                        ops[i,j]=\"%sd(%c)\"%(ops[i-1, j], char1)\n",
    "                    elif ins_op_cost<del_op_cost and ins_op_cost<subs_op_cost:\n",
    "                                        ops[i,j]=\"%si(%c)\"%(ops[i ,j-1], char2)\n",
    "                    else: # substitution\n",
    "                                        ops[i,j]=\"%ss(%c,%c)\"%(ops[i-1, j-1], char1, char2)\n",
    "                    d[i, j] = min(del_op_cost, ins_op_cost, subs_op_cost)\n",
    "                                       \n",
    "                    #print(\"Cost Matrix:\")\n",
    "                    #print(d)\n",
    "                    #print(\"Traces Matrix:\")\n",
    "                    #print(ops)\n",
    "    #print(d)           \n",
    "    return d[len(line1), len(line2)]#3,2\n",
    "#print(fisher_wagner(\"ABV\", \"FV\"))\n"
   ]
  },
  {
   "cell_type": "code",
   "execution_count": 256,
   "metadata": {},
   "outputs": [],
   "source": [
    "template_zeros=freeman_code_zero[6]\n",
    "template_ones=freeman_code_one[7]\n",
    "\n",
    "features=pd.DataFrame(index=np.arange(0,len(zeros_im)+len(ones_im)), columns=['Features0','Features1'])\n",
    "for i in range(len(freeman_code_zero)):\n",
    "    features.iloc[i,0]=fisher_wagner(freeman_code_zero[i],template_zeros)\n",
    "    features.iloc[i,1]=fisher_wagner(freeman_code_zero[i],template_ones)\n",
    "for j in range(len(freeman_code_one)):\n",
    "    features.iloc[i+j+1,0]=fisher_wagner(freeman_code_one[j],template_zeros)\n",
    "    features.iloc[i+j+1,1]=fisher_wagner(freeman_code_one[j],template_ones)\n",
    "        "
   ]
  },
  {
   "cell_type": "code",
   "execution_count": 258,
   "metadata": {},
   "outputs": [
    {
     "data": {
      "text/html": [
       "<div>\n",
       "<style scoped>\n",
       "    .dataframe tbody tr th:only-of-type {\n",
       "        vertical-align: middle;\n",
       "    }\n",
       "\n",
       "    .dataframe tbody tr th {\n",
       "        vertical-align: top;\n",
       "    }\n",
       "\n",
       "    .dataframe thead th {\n",
       "        text-align: right;\n",
       "    }\n",
       "</style>\n",
       "<table border=\"1\" class=\"dataframe\">\n",
       "  <thead>\n",
       "    <tr style=\"text-align: right;\">\n",
       "      <th></th>\n",
       "      <th>Features0</th>\n",
       "      <th>Features1</th>\n",
       "    </tr>\n",
       "  </thead>\n",
       "  <tbody>\n",
       "    <tr>\n",
       "      <th>0</th>\n",
       "      <td>20</td>\n",
       "      <td>22</td>\n",
       "    </tr>\n",
       "    <tr>\n",
       "      <th>1</th>\n",
       "      <td>20</td>\n",
       "      <td>24</td>\n",
       "    </tr>\n",
       "    <tr>\n",
       "      <th>2</th>\n",
       "      <td>19</td>\n",
       "      <td>24</td>\n",
       "    </tr>\n",
       "    <tr>\n",
       "      <th>3</th>\n",
       "      <td>21</td>\n",
       "      <td>22</td>\n",
       "    </tr>\n",
       "    <tr>\n",
       "      <th>4</th>\n",
       "      <td>23</td>\n",
       "      <td>19</td>\n",
       "    </tr>\n",
       "  </tbody>\n",
       "</table>\n",
       "</div>"
      ],
      "text/plain": [
       "   Features0  Features1\n",
       "0         20         22\n",
       "1         20         24\n",
       "2         19         24\n",
       "3         21         22\n",
       "4         23         19"
      ]
     },
     "execution_count": 258,
     "metadata": {},
     "output_type": "execute_result"
    }
   ],
   "source": [
    "# Show features \n",
    "features.head()"
   ]
  },
  {
   "cell_type": "code",
   "execution_count": 260,
   "metadata": {},
   "outputs": [
    {
     "data": {
      "image/png": "[encoded data removed]",
      "text/plain": [
       "<Figure size 576x576 with 1 Axes>"
      ]
     },
     "metadata": {},
     "output_type": "display_data"
    }
   ],
   "source": [
    "ax=features.iloc[0:len(zeros_im),:].plot.scatter(x='Features0',y='Features1',c='Blue')\n",
    "features.iloc[len(zeros_im)::,:].plot.scatter(x='Features0',y='Features1',c='Red',ax=ax)\n",
    "plt.title('Features space')\n",
    "plt.legend(['zeros','ones'])\n",
    "plt.show()"
   ]
  },
  {
   "cell_type": "markdown",
   "metadata": {},
   "source": [
    "The division in classes is really hard and this is due to the completely different shape that both zero and ones have and also due to a bad segmentation."
   ]
  },
  {
   "cell_type": "markdown",
   "metadata": {},
   "source": [
    "### 1.3.3 PCA"
   ]
  },
  {
   "cell_type": "markdown",
   "metadata": {},
   "source": [
    "We continue with linear dimensionality reduction, namely PCA.\n",
    "\n",
    "The flatted img is regarded as the original features."
   ]
  },
  {
   "cell_type": "code",
   "execution_count": 329,
   "metadata": {},
   "outputs": [],
   "source": [
    "# Flat imgs\n",
    "flatten_zeros = [img.flatten() for img in list(zeros_im) + rotated_zeros_im]\n",
    "\n",
    "flatten_ones = [img.flatten() for img in list(ones_im) + rotated_ones_im]"
   ]
  },
  {
   "cell_type": "code",
   "execution_count": 330,
   "metadata": {},
   "outputs": [],
   "source": [
    "# Conduct PCA\n",
    "pca = PCA(n_components = 2)\n",
    "\n",
    "results = pca.fit_transform(flatten_zeros + flatten_ones)\n",
    "\n",
    "projected_zeros = results[: len(flatten_zeros)]\n",
    "\n",
    "projected_ones = results[len(flatten_ones): ]"
   ]
  },
  {
   "cell_type": "code",
   "execution_count": 331,
   "metadata": {},
   "outputs": [
    {
     "data": {
      "text/plain": [
       "<matplotlib.legend.Legend at 0x7f2ddb792198>"
      ]
     },
     "execution_count": 331,
     "metadata": {},
     "output_type": "execute_result"
    },
    {
     "data": {
      "image/png": "[encoded data removed]",
      "text/plain": [
       "<Figure size 720x432 with 1 Axes>"
      ]
     },
     "metadata": {},
     "output_type": "display_data"
    }
   ],
   "source": [
    "# Visualize\n",
    "fig = plt.figure(figsize = (10, 6))\n",
    "ax = fig.add_subplot(111)\n",
    "ax.scatter(projected_zeros[:, 0], projected_zeros[:, 1], c = 'steelblue', label = 'zero')\n",
    "ax.scatter(projected_ones[:, 0], projected_ones[:, 1], c = 'red', label = 'one')\n",
    "ax.legend()"
   ]
  },
  {
   "cell_type": "markdown",
   "metadata": {},
   "source": [
    "### 1.3.4 Single layer ANN"
   ]
  },
  {
   "cell_type": "markdown",
   "metadata": {},
   "source": [
    "The last layer of the network is regarded as features."
   ]
  },
  {
   "cell_type": "code",
   "execution_count": 172,
   "metadata": {},
   "outputs": [],
   "source": [
    "# Build model\n",
    "\n",
    "# This trivial model is collected from the internet\n",
    "model = Sequential()\n",
    "model.add(Dense(512, input_shape=(784,)))\n",
    "model.add(Activation('relu')) # An \"activation\" is just a non-linear function applied to the output\n",
    "                              # of the layer above. Here, with a \"rectified linear unit\",\n",
    "                              # we clamp all values below 0 to 0.\n",
    "                           \n",
    "model.add(Dropout(0.2))   # Dropout helps protect the model from memorizing or \"overfitting\" the training data\n",
    "model.add(Dense(512))\n",
    "model.add(Activation('relu'))\n",
    "model.add(Dropout(0.2))\n",
    "model.add(Dense(2))\n",
    "model.add(Activation('softmax')) # This special \"softmax\" activation among other things,\n",
    "\n",
    "model.compile(loss = 'mean_squared_error',\n",
    "             optimizer = 'adam',\n",
    "             metrics = ['accuracy'])"
   ]
  },
  {
   "cell_type": "code",
   "execution_count": 169,
   "metadata": {},
   "outputs": [],
   "source": [
    "# Build x\n",
    "x = np.asarray((rotated_zeros_im + rotated_ones_im)).reshape((-1, zeros_im[0].shape[0] * \\\n",
    "                                                                     zeros_im[0].shape[1]))\n",
    "\n",
    "# Normalize x \n",
    "x = x / 255\n",
    "x -= np.mean(x)\n",
    "x /= np.std(x)"
   ]
  },
  {
   "cell_type": "code",
   "execution_count": 170,
   "metadata": {},
   "outputs": [],
   "source": [
    "# Build y\n",
    "y = np.asarray([0] * len(rotated_zeros_im) + [1] * len(rotated_ones_im))\n",
    "\n",
    "# Convert y to categorical\n",
    "y = np_utils.to_categorical(y, 2)"
   ]
  },
  {
   "cell_type": "code",
   "execution_count": 171,
   "metadata": {},
   "outputs": [],
   "source": [
    "# Shuffle data\n",
    "mask = np.random.permutation(len(x))\n",
    "\n",
    "x = x[mask]\n",
    "y = y[mask]"
   ]
  },
  {
   "cell_type": "code",
   "execution_count": 174,
   "metadata": {},
   "outputs": [
    {
     "name": "stdout",
     "output_type": "stream",
     "text": [
      "Epoch 1/10\n",
      "80/80 [==============================] - 0s 445us/step - loss: 3.2340e-08 - acc: 1.0000\n",
      "Epoch 2/10\n",
      "80/80 [==============================] - 0s 438us/step - loss: 7.5511e-07 - acc: 1.0000\n",
      "Epoch 3/10\n",
      "80/80 [==============================] - 0s 486us/step - loss: 1.2380e-08 - acc: 1.0000\n",
      "Epoch 4/10\n",
      "80/80 [==============================] - 0s 543us/step - loss: 8.4531e-10 - acc: 1.0000\n",
      "Epoch 5/10\n",
      "80/80 [==============================] - 0s 616us/step - loss: 1.8766e-08 - acc: 1.0000\n",
      "Epoch 6/10\n",
      "80/80 [==============================] - 0s 607us/step - loss: 2.0788e-10 - acc: 1.0000\n",
      "Epoch 7/10\n",
      "80/80 [==============================] - 0s 560us/step - loss: 5.6586e-07 - acc: 1.0000\n",
      "Epoch 8/10\n",
      "80/80 [==============================] - 0s 663us/step - loss: 4.0469e-09 - acc: 1.0000\n",
      "Epoch 9/10\n",
      "80/80 [==============================] - 0s 568us/step - loss: 2.3232e-09 - acc: 1.0000\n",
      "Epoch 10/10\n",
      "80/80 [==============================] - 0s 550us/step - loss: 6.2540e-09 - acc: 1.0000\n"
     ]
    },
    {
     "data": {
      "text/plain": [
       "<keras.callbacks.History at 0x7f5fd1ac7f98>"
      ]
     },
     "execution_count": 174,
     "metadata": {},
     "output_type": "execute_result"
    }
   ],
   "source": [
    "# Train\n",
    "model.fit(x, y, epochs = 10)"
   ]
  },
  {
   "cell_type": "code",
   "execution_count": 176,
   "metadata": {},
   "outputs": [],
   "source": [
    "# Get last layer as feature vector\n",
    "feature_vec = model.predict_proba(x)"
   ]
  },
  {
   "cell_type": "code",
   "execution_count": 191,
   "metadata": {},
   "outputs": [],
   "source": [
    "# Get zero and one feature vectors\n",
    "\n",
    "zero_feature_vec = feature_vec[y[::, 1] == 0]\n",
    "\n",
    "one_feature_vec = feature_vec[y[::, 1] == 1]"
   ]
  },
  {
   "cell_type": "code",
   "execution_count": 193,
   "metadata": {},
   "outputs": [
    {
     "data": {
      "text/plain": [
       "<matplotlib.legend.Legend at 0x7f5fd12f44a8>"
      ]
     },
     "execution_count": 193,
     "metadata": {},
     "output_type": "execute_result"
    },
    {
     "data": {
      "image/png": "[encoded data removed]",
      "text/plain": [
       "<Figure size 720x432 with 1 Axes>"
      ]
     },
     "metadata": {
      "needs_background": "light"
     },
     "output_type": "display_data"
    }
   ],
   "source": [
    "# Visualize feature vector\n",
    "fig = plt.figure(figsize = (10, 6))\n",
    "ax = fig.add_subplot(111)\n",
    "ax.scatter(zero_feature_vec[::, 0], zero_feature_vec[::, 1], c = 'steelblue', label = 'zero')\n",
    "ax.scatter(one_feature_vec[::, 0], one_feature_vec[::, 1], c = 'red', label = 'one')\n",
    "ax.legend()"
   ]
  },
  {
   "cell_type": "markdown",
   "metadata": {},
   "source": [
    "Notice that this feature encoding seems to be perfect. This is due to the lack of training data, which may lead to severe overfitting.\n",
    "\n",
    "This disadvantage can be overcome by bringing more data. As the success of neural network on recognition on MNIST dataset shows, with sufficient amount of data, we can encode the figures to any dimension properly."
   ]
  },
  {
   "cell_type": "code",
   "execution_count": null,
   "metadata": {},
   "outputs": [],
   "source": []
  }
 ],
 "metadata": {
  "kernelspec": {
   "display_name": "Python 3",
   "language": "python",
   "name": "python3"
  },
  "language_info": {
   "codemirror_mode": {
    "name": "ipython",
    "version": 3
   },
   "file_extension": ".py",
   "mimetype": "text/x-python",
   "name": "python",
   "nbconvert_exporter": "python",
   "pygments_lexer": "ipython3",
   "version": "3.6.5"
  }
 },
 "nbformat": 4,
 "nbformat_minor": 2
}
