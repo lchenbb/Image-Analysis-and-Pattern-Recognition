{
 "cells": [
  {
   "cell_type": "markdown",
   "metadata": {},
   "source": [
    "# [IAPR 2019:][iapr2019] Lab 2 ‒  Object description\n",
    "\n",
    "**Author:** first name and last name  \n",
    "**Due date:** 19.04.2019\n",
    "\n",
    "[iapr2019]: https://github.com/LTS5/iapr-2019"
   ]
  },
  {
   "cell_type": "markdown",
   "metadata": {},
   "source": [
    "## Extract relevant data\n",
    "We first need to extract the `lab-02-data.tar.gz` archive.\n",
    "To this end, we use the [tarfile] module from the Python standard library.\n",
    "\n",
    "[tarfile]: https://docs.python.org/3.6/library/tarfile.html"
   ]
  },
  {
   "cell_type": "code",
   "execution_count": 82,
   "metadata": {},
   "outputs": [],
   "source": [
    "import tarfile\n",
    "import os\n",
    "\n",
    "data_base_path = os.path.join(os.pardir, 'data')\n",
    "data_folder = 'lab-02-data'\n",
    "tar_path = os.path.join(data_base_path, data_folder + '.tar.gz')\n",
    "with tarfile.open(tar_path, mode='r:gz') as tar:\n",
    "    tar.extractall(path=data_base_path)"
   ]
  },
  {
   "cell_type": "markdown",
   "metadata": {},
   "source": [
    "## Description\n",
    "In the `lab-02-data/` folder, you will find 28x28 grey-scale pictures of handwritten \"0\" and \"1\".\n",
    "These digits have been extracted from MNIST dataset (http://yann.lecun.com/exdb/mnist/).\n",
    "\n",
    "Your goal is to extract, from each of those images, a 2-dimensional feature vector (i.e. 2 features) and to plot them all on a 2D graph.\n",
    "If you have chosen good features, the vectors of the \"0\"'s should nicely cluster in one part of the plane and those of the \"1\"'s in another.\n",
    "\n",
    "Please try first the Fourier Descriptors.\n",
    "You can make several attempts: e.g. with and without invariance to rotation, translation, scaling, etc.\n",
    "You can also for instance rotate the images and assess the invariance in rotation.\n",
    "\n",
    "**Note:** for the Fourier descriptors, the u_k signal has to be constructed by following the contour point after point.\n",
    "Some pre-processing (image binarization, possibly some Mathematical Morphology) might be useful.\n",
    "\n",
    "Then feel free to try other features, the more you try, the better it will be (for you)."
   ]
  },
  {
   "cell_type": "markdown",
   "metadata": {},
   "source": [
    "### 1.1 Data visualization"
   ]
  },
  {
   "cell_type": "code",
   "execution_count": 291,
   "metadata": {},
   "outputs": [
    {
     "data": {
      "image/png": "[encoded data removed]",
      "text/plain": [
       "<Figure size 864x216 with 20 Axes>"
      ]
     },
     "metadata": {},
     "output_type": "display_data"
    }
   ],
   "source": [
    "import skimage.io\n",
    "import matplotlib.pyplot as plt\n",
    "import cv2\n",
    "import numpy as np\n",
    "import pandas as pd\n",
    "import scipy\n",
    "from skimage import feature\n",
    "import matplotlib.pyplot as plt\n",
    "\n",
    "%matplotlib inline\n",
    "\n",
    "# Load images\n",
    "data_base_path = os.path.join(os.pardir, 'data')\n",
    "data_folder = 'lab-02-data'\n",
    "#  Load zeros\n",
    "zeros_path = os.path.join(data_base_path, data_folder, '0')\n",
    "zeros_names = [nm for nm in os.listdir(zeros_path) if '.png' in nm]  # make sure to only load .png\n",
    "zeros_names.sort()  # sort file names\n",
    "ic = skimage.io.imread_collection([os.path.join(zeros_path, nm) for nm in zeros_names])\n",
    "zeros_im = skimage.io.concatenate_images(ic)\n",
    "#  Load ones\n",
    "ones_path = os.path.join(data_base_path, data_folder, '1')\n",
    "ones_names = [nm for nm in os.listdir(ones_path) if '.png' in nm]  # make sure to only load .png\n",
    "ones_names.sort()  # sort file names\n",
    "ic = skimage.io.imread_collection(([os.path.join(ones_path, nm) for nm in ones_names]))\n",
    "ones_im = skimage.io.concatenate_images(ic)\n",
    "\n",
    "# Plot images\n",
    "fig, axes = plt.subplots(2, len(zeros_im), figsize=(12, 3))\n",
    "for ax, im, nm in zip(axes[0], zeros_im, zeros_names):\n",
    "    ax.imshow(im, cmap='gray')\n",
    "    ax.axis('off')\n",
    "    ax.set_title(nm)\n",
    "for ax, im, nm in zip(axes[1], ones_im, ones_names):\n",
    "    ax.imshow(im, cmap='gray')\n",
    "    ax.axis('off')\n",
    "    ax.set_title(nm)"
   ]
  },
  {
   "cell_type": "markdown",
   "metadata": {},
   "source": [
    "### 1.2 Fourier descriptors\n"
   ]
  },
  {
   "cell_type": "markdown",
   "metadata": {},
   "source": [
    "Let's start by considering the contourns of the images and define them as a complex number.\n",
    "\n",
    "After we apply to them 'Fourier trasform' function to calculate the amplitude of the first 4 Fourier descriptors.\n",
    "\n",
    "The descriptors are then saved in a pandas dataframe 'Features' "
   ]
  },
  {
   "cell_type": "code",
   "execution_count": 361,
   "metadata": {},
   "outputs": [],
   "source": [
    "def Fourier_trasform(N,fourier):\n",
    "    feature=np.zeros((4))\n",
    "\n",
    "    for l in range(4):\n",
    "        summa=0\n",
    "        for i in range(N):\n",
    "            summa+=(fourier[i]*np.exp((-2 *l* np.pi * 1j *i )/N))\n",
    "        feature[l]=np.abs(summa)\n",
    "    \n",
    "    return feature"
   ]
  },
  {
   "cell_type": "code",
   "execution_count": null,
   "metadata": {},
   "outputs": [],
   "source": []
  },
  {
   "cell_type": "code",
   "execution_count": 383,
   "metadata": {},
   "outputs": [],
   "source": [
    "Features=pd.DataFrame(index=np.arange(len(zeros_im)+len(ones_im)),columns=['Descriptor_0','Descriptor_1','Descriptor_2','Descriptor_3'])\n",
    "\n",
    "#descriptor for zeros images\n",
    "for m in range(len(zeros_im)):\n",
    "    im2, contours, hierarchy = cv2.findContours(zeros_im[m,:,:], cv2.RETR_TREE, cv2.CHAIN_APPROX_NONE)\n",
    "    \n",
    "    #find the biggest contour\n",
    "    contour = sorted(contours, key = lambda x: len(x))[-1]\n",
    "    fourier=np.zeros((len(contour),1),dtype=np.complex64)#contours[0] is the max len contours\n",
    "    \n",
    "    #trasform the contour coordinate into complex one\n",
    "    for i, contours in enumerate(contour):\n",
    "        \n",
    "        fourier[i]=complex(contours[0][1],contours[0][0])\n",
    "    \n",
    "    Features.iloc[m,:]=Fourier_trasform(len(contour),fourier)"
   ]
  },
  {
   "cell_type": "code",
   "execution_count": 384,
   "metadata": {},
   "outputs": [],
   "source": [
    "#descriptor for ones  images\n",
    "for m in range(len(zeros_im)):\n",
    "    im2, contours, hierarchy = cv2.findContours(ones_im[m,:,:], cv2.RETR_TREE, cv2.CHAIN_APPROX_NONE)\n",
    "    \n",
    "    #find the biggest contour\n",
    "    contour = sorted(contours, key = lambda x: len(x))[-1]\n",
    "    fourier=np.zeros((len(contour),1),dtype=np.complex64)#contours[0] is the max len contours\n",
    "    \n",
    "    #trasform the contour coordinate into complex one\n",
    "    for i, contours in enumerate(contour):\n",
    "        \n",
    "        fourier[i]=complex(contours[0][1],contours[0][0])\n",
    "    \n",
    "    Features.iloc[len(zeros_im)+m,:]=Fourier_trasform(len(contour),fourier)\n"
   ]
  },
  {
   "cell_type": "code",
   "execution_count": 394,
   "metadata": {},
   "outputs": [
    {
     "data": {
      "image/png": "[encoded data removed]",
      "text/plain": [
       "<Figure size 432x288 with 1 Axes>"
      ]
     },
     "metadata": {},
     "output_type": "display_data"
    }
   ],
   "source": [
    "ax=Features.astype(int).iloc[:len(zeros_im),1:3].plot.scatter(x='Descriptor_1',y='Descriptor_2',c='Blue',label='zero_images')\n",
    "Features.astype(int).iloc[len(zeros_im)::,1:3].plot.scatter(x='Descriptor_1',y='Descriptor_2',c='Red',ax=ax,label='one_images')\n",
    "plt.title('Amplitude of Fourier descriptor')\n",
    "plt.legend()\n",
    "plt.show()                                                                          "
   ]
  },
  {
   "cell_type": "markdown",
   "metadata": {},
   "source": [
    "TRASLATION AND ROTATION INVARIANCE OF FOURIER DESCRIPTORS"
   ]
  },
  {
   "cell_type": "markdown",
   "metadata": {},
   "source": [
    "In this section, we will asses that the amplitude of Fourier descriptors (except for the first descriptor that represents the DC component) doesn't change if the image is rotated or traslated."
   ]
  },
  {
   "cell_type": "markdown",
   "metadata": {},
   "source": [
    "Let's consider a single image and its traslation."
   ]
  },
  {
   "cell_type": "code",
   "execution_count": 496,
   "metadata": {
    "scrolled": true
   },
   "outputs": [
    {
     "data": {
      "image/png": "[encoded data removed]",
      "text/plain": [
       "<Figure size 720x720 with 8 Axes>"
      ]
     },
     "metadata": {},
     "output_type": "display_data"
    }
   ],
   "source": [
    "image=np.zeros((zeros_im[0,:,:].shape[0],zeros_im[0,:,:].shape[1]))\n",
    "im2, contours, hierarchy = cv2.findContours(zeros_im[0,:,:], cv2.RETR_TREE, cv2.CHAIN_APPROX_NONE)\n",
    "skeleton=cv2.drawContours(image, contours, 0, (255,255,255), 1)\n",
    "for region in regionprops(skeleton.astype('int')):\n",
    "        minr, minc, maxr, maxc = region.bbox\n",
    "shift_x=np.abs(minr-maxr)\n",
    "shift_y=np.abs(minc-maxc)\n",
    "image=np.zeros((zeros_im[0,:,:].shape[0],zeros_im[0,:,:].shape[1]))\n",
    "image[:shift_x,:shift_y]=(image[:shift_x,:shift_y]+1)*zeros_im[0,:,:][minr:maxr,minc:maxc]\n",
    "\n",
    "\n",
    "rotated_image=skimage.transform.rotate(zeros_im[0,:,:],15)\n",
    "\n",
    "#trasfor to have a scale from 0-255\n",
    "rotated_image=np.round(rotated_image*255/np.max(rotated_image.ravel()))\n",
    "\n",
    "#scale of a factor =1/10\n",
    "height, width = zeros_im[0,:,:].shape\n",
    "scaled_image = cv2.resize(zeros_im[0,:,:],(2*width, 2*height), interpolation = cv2.INTER_CUBIC)\n",
    "\n",
    "\n",
    "\n",
    "plt.figure(figsize=(10,10))\n",
    "plt.subplot(2,2,2)\n",
    "plt.imshow(image)\n",
    "plt.title('Traslated image')\n",
    "plt.colorbar()\n",
    "\n",
    "plt.subplot(2,2,1)\n",
    "plt.imshow(zeros_im[0,:,:])\n",
    "plt.title('Original image')\n",
    "plt.colorbar()\n",
    "\n",
    "plt.subplot(2,2,3)\n",
    "plt.imshow(rotated_image)\n",
    "plt.title('Rotated image')\n",
    "plt.colorbar()\n",
    "\n",
    "plt.subplot(2,2,4)\n",
    "plt.imshow(scaled_image)\n",
    "plt.title('Scaled image')\n",
    "plt.colorbar()\n",
    "plt.show()\n"
   ]
  },
  {
   "cell_type": "markdown",
   "metadata": {},
   "source": [
    "Since we know already the Fourier descriptor for the original image, let's find out the one for the traslated image"
   ]
  },
  {
   "cell_type": "code",
   "execution_count": 486,
   "metadata": {},
   "outputs": [],
   "source": [
    "Modified_Descriptor=pd.DataFrame(index=[0,1,2,3],columns=['Descriptor_0','Descriptor_1 ','Descriptor_2','Descriptor_3 ' ])\n",
    "\n",
    "#analysis of the traslated image\n",
    "im2, contours, hierarchy = cv2.findContours(image.astype('uint8'), cv2.RETR_TREE, cv2.CHAIN_APPROX_NONE)\n",
    "\n",
    "contour = sorted(contours, key = lambda x: len(x))[-1]\n",
    "fourier=np.zeros((len(contour),1),dtype=np.complex64)#contours[0] is the max len contours\n",
    "    \n",
    "    #trasform the contour coordinate into complex one\n",
    "for i, contours in enumerate(contour):\n",
    "        \n",
    "        fourier[i]=complex(contours[0][1],contours[0][0])\n",
    "    \n",
    "Modified_Descriptor.iloc[0,:]=Fourier_trasform(len(contour),fourier)\n",
    "\n"
   ]
  },
  {
   "cell_type": "code",
   "execution_count": 487,
   "metadata": {},
   "outputs": [],
   "source": [
    "#analysis of the rotated image\n",
    "\n",
    "\n",
    "im2, contours, hierarchy = cv2.findContours(rotated_image.astype('uint8'), cv2.RETR_TREE, cv2.CHAIN_APPROX_NONE)\n",
    "\n",
    "contour = sorted(contours, key = lambda x: len(x))[-1]\n",
    "fourier=np.zeros((len(contour),1),dtype=np.complex64)#contours[0] is the max len contours\n",
    "    \n",
    "    #trasform the contour coordinate into complex one\n",
    "for i, contours in enumerate(contour):\n",
    "        \n",
    "        fourier[i]=complex(contours[0][1],contours[0][0])\n",
    "    \n",
    "Modified_Descriptor.iloc[1,:]=Fourier_trasform(len(contour),fourier)\n",
    "\n"
   ]
  },
  {
   "cell_type": "code",
   "execution_count": 497,
   "metadata": {},
   "outputs": [],
   "source": [
    "#analysis for the scaled image\n",
    "im2, contours, hierarchy = cv2.findContours(scaled_image.astype('uint8'), cv2.RETR_TREE, cv2.CHAIN_APPROX_NONE)\n",
    "\n",
    "contour = sorted(contours, key = lambda x: len(x))[-1]\n",
    "fourier=np.zeros((len(contour),1),dtype=np.complex64)#contours[0] is the max len contours\n",
    "    \n",
    "    #trasform the contour coordinate into complex one\n",
    "for i, contours in enumerate(contour):\n",
    "        \n",
    "        fourier[i]=complex(contours[0][1],contours[0][0])\n",
    "    \n",
    "Modified_Descriptor.iloc[2,:]=Fourier_trasform(len(contour),fourier)\n",
    "\n",
    "\n"
   ]
  },
  {
   "cell_type": "code",
   "execution_count": 469,
   "metadata": {},
   "outputs": [
    {
     "data": {
      "text/plain": [
       "Descriptor_0     1155.43\n",
       "Descriptor_1     506.054\n",
       "Descriptor_2     29.5825\n",
       "Descriptor_3     36.5393\n",
       "Name: 1, dtype: object"
      ]
     },
     "execution_count": 469,
     "metadata": {},
     "output_type": "execute_result"
    }
   ],
   "source": [
    "Modified_Descriptor.iloc[1,:] #rotation"
   ]
  },
  {
   "cell_type": "code",
   "execution_count": 468,
   "metadata": {},
   "outputs": [
    {
     "data": {
      "text/plain": [
       "Descriptor_0     654.811\n",
       "Descriptor_1     431.032\n",
       "Descriptor_2     19.8729\n",
       "Descriptor_3      24.445\n",
       "Name: 0, dtype: object"
      ]
     },
     "execution_count": 468,
     "metadata": {},
     "output_type": "execute_result"
    }
   ],
   "source": [
    "Modified_Descriptor.iloc[0,:] #traslation"
   ]
  },
  {
   "cell_type": "code",
   "execution_count": 403,
   "metadata": {},
   "outputs": [
    {
     "data": {
      "text/plain": [
       "Descriptor_0    1057.25\n",
       "Descriptor_1    431.032\n",
       "Descriptor_2    19.8729\n",
       "Descriptor_3     24.445\n",
       "Name: 0, dtype: object"
      ]
     },
     "execution_count": 403,
     "metadata": {},
     "output_type": "execute_result"
    }
   ],
   "source": [
    "Features.iloc[0,:]#intial"
   ]
  },
  {
   "cell_type": "markdown",
   "metadata": {},
   "source": [
    "We can see that for the traslated image only the zero descriptor, so the DC component is changed, the other are the same.\n",
    "\n",
    "For the rotated image instead, we have a sligtly different amplitude values. This is due to the fact that the function 'rotate' uses interpolation to reconstruct the rotated image, so we lose the initial pixel values, bringing to have different frequencies components respect the original one.\n"
   ]
  },
  {
   "cell_type": "markdown",
   "metadata": {},
   "source": [
    "Let's consider the analisys of the scaled image:"
   ]
  },
  {
   "cell_type": "code",
   "execution_count": 502,
   "metadata": {},
   "outputs": [
    {
     "data": {
      "text/plain": [
       "Descriptor_0       2.30751\n",
       "Descriptor_1             1\n",
       "Descriptor_2     0.0784925\n",
       "Descriptor_3     0.0719859\n",
       "Name: 2, dtype: object"
      ]
     },
     "execution_count": 502,
     "metadata": {},
     "output_type": "execute_result"
    }
   ],
   "source": [
    "Modified_Descriptor.iloc[2,:] /Modified_Descriptor.iloc[2,1]#scaled image"
   ]
  },
  {
   "cell_type": "code",
   "execution_count": 503,
   "metadata": {},
   "outputs": [
    {
     "data": {
      "text/plain": [
       "Descriptor_0      2.45283\n",
       "Descriptor_1            1\n",
       "Descriptor_2    0.0461053\n",
       "Descriptor_3    0.0567128\n",
       "Name: 0, dtype: object"
      ]
     },
     "execution_count": 503,
     "metadata": {},
     "output_type": "execute_result"
    }
   ],
   "source": [
    "Features.iloc[0,:]/Features.iloc[0,1] #original image"
   ]
  },
  {
   "cell_type": "markdown",
   "metadata": {},
   "source": [
    "Here we consider that the ration among the descriptor of the scaled and the original image should not changed!\n",
    "The difference is quite small and is given again by the interpolation that it's done to rescale the image"
   ]
  },
  {
   "cell_type": "markdown",
   "metadata": {},
   "source": [
    "### 1.3 Chamfer Distance\n"
   ]
  },
  {
   "cell_type": "markdown",
   "metadata": {},
   "source": [
    "In this section we will describe a contour based description: the Chamfer Distance.\n",
    "First of all, we select two templates for class 1 and 0 by visual detection( small number of training data allows to do it); then, we define their skeleton and applied the function 'distance_transform' to obtain the distance map.\n",
    "\n",
    "The other images of one and zeros are then all compared with these two distance map of the templates and a measure of similariy is extracted, taking into account the rotation and traslation invariance."
   ]
  },
  {
   "cell_type": "code",
   "execution_count": null,
   "metadata": {},
   "outputs": [],
   "source": [
    "\n",
    "\n"
   ]
  },
  {
   "cell_type": "code",
   "execution_count": null,
   "metadata": {},
   "outputs": [],
   "source": [
    "plt.rcParams['figure.figsize'] = (8.0, 8.0)"
   ]
  },
  {
   "cell_type": "code",
   "execution_count": null,
   "metadata": {},
   "outputs": [],
   "source": [
    "from skimage.morphology import skeletonize\n",
    "from skimage.util import invert\n",
    "\n",
    "\n",
    "\n",
    "#template for zeros\n",
    "image_zeros = (zeros_im[8,:,:])\n",
    "image=np.ones((image_zeros.shape[0],image_zeros.shape[1]))\n",
    "im2, contours, hierarchy = cv2.findContours(image_zeros, cv2.RETR_TREE, cv2.CHAIN_APPROX_SIMPLE)\n",
    "skeleton=cv2.drawContours(image, contours, -1, (255,255,255), 1)\n",
    "#plt.imshow(skeleton,cmap='gray')\n",
    "skeleton=np.where(skeleton==255,0,1)\n",
    "skeleton=np.pad(skeleton, (15, 15), 'edge')\n",
    "distance_map_zeros=scipy.ndimage.morphology.distance_transform_cdt(skeleton)\n",
    "\n",
    "plt.subplot(1,2,1)\n",
    "plt.imshow(distance_map_zeros)\n",
    "plt.title('Distance map for zeros')\n",
    "\n",
    "\n",
    "#template for ones\n",
    "image_ones = (ones_im[7,:,:])\n",
    "image=np.ones((image_ones.shape[0],image_ones.shape[1]))\n",
    "im2, contours, hierarchy = cv2.findContours(image_ones, cv2.RETR_TREE, cv2.CHAIN_APPROX_SIMPLE)\n",
    "skeleton=cv2.drawContours(image, contours, -1, (255,255,255), 1)\n",
    "#plt.imshow(skeleton,cmap='gray')\n",
    "\n",
    "skeleton=np.where(skeleton==255,0,1)\n",
    "skeleton=np.pad(skeleton, (15, 15), 'edge')# adding padding to prevent the problme of rotation\n",
    "distance_map_ones=scipy.ndimage.morphology.distance_transform_cdt(skeleton)\n",
    "\n",
    "plt.subplot(1,2,2)\n",
    "plt.imshow(distance_map_ones)\n",
    "plt.title('Distance map for ones')\n",
    "plt.show()\n"
   ]
  },
  {
   "cell_type": "markdown",
   "metadata": {},
   "source": [
    "Now, let's calculate the similarity between the other images and the two templates above.\n",
    "We take the optimal trasformation of the images that minimizes the distance respect to both the templates. The distance will be the features used to classify the images.\n"
   ]
  },
  {
   "cell_type": "code",
   "execution_count": null,
   "metadata": {},
   "outputs": [],
   "source": [
    "def similarity(input1,input2,previous_distance,angle,i,j):\n",
    "    distance=np.sum(input1*input2)\n",
    "    if distance<previous_distance:\n",
    "           return distance,angle,i,j\n",
    "    else: \n",
    "          return None"
   ]
  },
  {
   "cell_type": "code",
   "execution_count": null,
   "metadata": {},
   "outputs": [],
   "source": [
    "#zeros and ones\n",
    "def features_calculation(distance_map_zeros,shift_x,shift_y,skeleton,m):\n",
    "    previous_distance=np.sum(distance_map_zeros.ravel()) #max possible value\n",
    "    #traslation\n",
    "    for i in range(0,distance_map_zeros.shape[0]-shift_x):\n",
    "        for j in range(0,distance_map_zeros.shape[1]-shift_y):\n",
    "            \n",
    "            \n",
    "            \n",
    "            for angle in np.arange(0,360,10):\n",
    "                img_rot = skimage.transform.rotate((skeleton.astype('float')),angle,resize=True)\n",
    "                img_rot=np.where(img_rot>=np.mean(img_rot),1,0)#super bad but it's done to have binary images\n",
    "                \n",
    "                if (img_rot.shape> skeleton.shape)& ((i+img_rot.shape[0]<=distance_map_zeros.shape[0]) &( j+img_rot.shape[1]<=distance_map_zeros.shape[1])) :\n",
    "                   \n",
    "                    if similarity(img_rot,distance_map_zeros[i:i+img_rot.shape[0],j:j+img_rot.shape[1]],previous_distance,angle,i,j)!=None :\n",
    "                        min_distance,min_angle,min_trasl_x,min_trasl_y= similarity(img_rot,distance_map_zeros[i:i+img_rot.shape[0],j:j+img_rot.shape[1]],previous_distance,angle,i,j)\n",
    "                        previous_distance=min_distance\n",
    "                        \n",
    "                elif (img_rot.shape== skeleton.shape):\n",
    "                   \n",
    "                    if (similarity(img_rot,distance_map_zeros[i:i+shift_x,j:j+shift_y],previous_distance,angle,i,j)!=None): \n",
    "                        min_distance,min_angle,min_trasl_x,min_trasl_y= similarity(img_rot,distance_map_zeros[i:i+shift_x,j:j+shift_y],previous_distance,angle,i,j)\n",
    "                        previous_distance=min_distance\n",
    "                \n",
    "            \n",
    "            \n",
    "            \n",
    "        \n",
    "            #\n",
    "    print('Image: 0{}, min_distance:{}, angle:{}, traslation:[{},{}]'.format(m,previous_distance,min_angle,min_trasl_x,min_trasl_y ))            \n",
    "    return min_distance"
   ]
  },
  {
   "cell_type": "code",
   "execution_count": null,
   "metadata": {},
   "outputs": [],
   "source": []
  },
  {
   "cell_type": "code",
   "execution_count": null,
   "metadata": {},
   "outputs": [],
   "source": [
    "from skimage.measure import regionprops\n",
    "import pandas as pd\n",
    "import matplotlib.patches as mpatches\n",
    "\n",
    "features=pd.DataFrame(index=np.arange(0,len(zeros_im)+len(ones_im)), columns=['Features0','Features1'])\n",
    "image=np.ones((image_zeros.shape[0],image_zeros.shape[1]))\n",
    "\n",
    "#all zeros images:\n",
    "for m in range(len(zeros_im)):\n",
    "    #find the contour of the image and threhsolding the contour\n",
    "    im2, contours, hierarchy = cv2.findContours(zeros_im[m,:,:], cv2.RETR_TREE, cv2.CHAIN_APPROX_SIMPLE)\n",
    "    skeleton=cv2.drawContours(image-1, contours, -1, (255,255,255), 1)\n",
    "    skeleton=np.where(skeleton==255,1,0)\n",
    "    for region in regionprops(skeleton):\n",
    "        minr, minc, maxr, maxc = region.bbox\n",
    "    shift_x=np.abs(minr-maxr)\n",
    "    shift_y=np.abs(minc-maxc)\n",
    "    \n",
    "    min_distance=features_calculation(distance_map_zeros,shift_x,shift_y,skeleton[minr:maxr,minc:maxc],m)\n",
    "    features.iloc[m,0]=min_distance\n",
    "    min_distance=features_calculation(distance_map_ones,shift_x,shift_y,skeleton[minr:maxr,minc:maxc],m)\n",
    "    features.iloc[m,1]=min_distance\n",
    "    \n",
    "    image=np.ones((image_zeros.shape[0],image_zeros.shape[1]))\n",
    "    \n",
    "\n",
    "#all the ones images\n",
    "image=np.ones((image_zeros.shape[0],image_zeros.shape[1]))\n",
    "for n in range(len(ones_im)):\n",
    "    \n",
    "#find the contour of the image and threhsolding the contour\n",
    "    im2, contours, hierarchy = cv2.findContours(ones_im[n,:,:], cv2.RETR_TREE, cv2.CHAIN_APPROX_SIMPLE)\n",
    "    skeleton=cv2.drawContours(image-1, contours, -1, (255,255,255), 1)\n",
    "    skeleton=np.where(skeleton==255,1,0)\n",
    "    for region in regionprops(skeleton):\n",
    "        minr, minc, maxr, maxc = region.bbox\n",
    "    shift_x=np.abs(minr-maxr)\n",
    "    shift_y=np.abs(minc-maxc)\n",
    "    \n",
    "    min_distance=features_calculation(distance_map_zeros,shift_x,shift_y,skeleton[minr:maxr,minc:maxc],n)\n",
    "    features.iloc[m+n+1,0]=min_distance\n",
    "    min_distance=features_calculation(distance_map_ones,shift_x,shift_y,skeleton[minr:maxr,minc:maxc],n)\n",
    "    features.iloc[m+n+1,1]=min_distance\n",
    "    image=np.ones((image_zeros.shape[0],image_zeros.shape[1]))"
   ]
  },
  {
   "cell_type": "code",
   "execution_count": null,
   "metadata": {
    "scrolled": true
   },
   "outputs": [],
   "source": [
    "ax=features.iloc[0:len(zeros_im),:].plot.scatter(x='Features0',y='Features1',c='Blue')\n",
    "features.iloc[len(zeros_im)::,:].plot.scatter(x='Features0',y='Features1',c='Red',ax=ax)\n",
    "plt.title('Features space')\n",
    "plt.show()"
   ]
  },
  {
   "cell_type": "code",
   "execution_count": null,
   "metadata": {},
   "outputs": [],
   "source": [
    "features"
   ]
  },
  {
   "cell_type": "markdown",
   "metadata": {},
   "source": [
    "limitation of the method:\n",
    "\n",
    "1) find a good template, \n",
    "\n",
    "2) resize image and trasform to binary\n",
    "\n",
    "3) even though still two cluster could be identify !!"
   ]
  },
  {
   "cell_type": "markdown",
   "metadata": {},
   "source": [
    "# FREEMANN"
   ]
  },
  {
   "cell_type": "code",
   "execution_count": null,
   "metadata": {},
   "outputs": [],
   "source": [
    "#no approximation because we want the relationship among all the points!!\n",
    "#for the zero there are three contous while for one just one contours, \n",
    "# we should treat them separately !!!\n",
    "import pandas as pd\n",
    "cm=pd.Series([5 ,6 ,7, 4,'nan', 0, 3, 2, 1])\n",
    "\n",
    "freeman_code_zero=[]\n",
    "#for zero, take the one with biggest area\n",
    "for m in range(len(zeros_im)):\n",
    "    max_cont=0\n",
    "    im2, contours, hierarchy = cv2.findContours(zeros_im[m,:,:], cv2.RETR_TREE, cv2.CHAIN_APPROX_NONE)\n",
    "    for i in range(len(contours)):\n",
    "        if max_cont<len(contours[i]):\n",
    "            contours[0]=contours[i]\n",
    "            max_cont=len(contours[0])\n",
    "            \n",
    "    sb=np.roll(contours[0],(-1, -1),axis=(0,1))\n",
    "    delta=sb-contours[0]\n",
    "    if (np.abs(delta[-1][-1][1])>1) | (np.abs(delta[-1][-1][0])>1):\n",
    "        delta=delta[0:len(delta)-1,:]\n",
    "    idx=np.zeros((len(delta)))\n",
    "    for i in range(len(delta)):\n",
    "        idx[i]=3*delta[i][0][1] + delta[i][0][0]+4;\n",
    "\n",
    "    freeman_code_zero.append(cm[idx.astype(int)].values)#remember two for one image\n",
    "\n",
    "\n",
    "\n",
    "#for one , just one cases\n",
    "freeman_code_one=[]\n",
    "for m in range(len(ones_im)):\n",
    "    im2, contours, hierarchy = cv2.findContours(ones_im[m,:,:], cv2.RETR_TREE, cv2.CHAIN_APPROX_NONE)\n",
    "    if (len(contours)>1):\n",
    "        if(len(contours[0])<len(contours[1])):\n",
    "            contours[0]=contours[1]\n",
    "        \n",
    "    sb=np.roll(contours[0],(-1, -1),axis=(0,1))\n",
    "    delta=sb-contours[0]\n",
    "    if (np.abs(delta[-1][-1][1])>1) | (np.abs(delta[-1][-1][0])>1):\n",
    "        delta=delta[0:len(delta)-1,:]\n",
    "    idx=np.zeros((len(delta)))\n",
    "    for i in range(len(delta)):\n",
    "        idx[i]=3*delta[i][0][1] + delta[i][0][0]+4;\n",
    "        \n",
    "    freeman_code_one.insert(m, cm[idx.astype(int)].values)\n",
    "\n"
   ]
  },
  {
   "cell_type": "code",
   "execution_count": null,
   "metadata": {},
   "outputs": [],
   "source": [
    "\n",
    "#\n",
    "#\n",
    "#  used direction-to-code convention is:        (5) (6) 7\n",
    "#%                                                \\ | /\n",
    "#%                                             4 -- P -- 0\n",
    "#%                                                / | \\\n",
    "#%                                              3 (2)  (1)\n",
    "#%   \n",
    "\n",
    "#% Then use a mapping array cm\n",
    "#%   --------------------------------------\n",
    "#%   | deltax | deltay | code | (base-3)+1 |\n",
    "#%   |-------------------------------------|\n",
    "#%   |    0   |   +1   |   2  |      8     | \n",
    "#%   |    0   |   -1   |   6  |      2     | \n",
    "#%   |   -1   |   +1   |   3  |      7     | \n",
    "#%   |   -1   |   -1   |   5  |      1     | \n",
    "#%   |   +1   |   +1   |   1  |      9     | \n",
    "#%   |   +1   |   -1   |   7  |      3     | \n",
    "#%   |   -1   |    0   |   4  |      4     |  \n",
    "#%   |   +1   |    0   |   0  |      6     | \n",
    "#%   ---------------------------------------\n",
    "\n"
   ]
  },
  {
   "cell_type": "code",
   "execution_count": null,
   "metadata": {},
   "outputs": [],
   "source": [
    "import numpy as np\n",
    "from scipy.stats import entropy # calculate kl divergence #http://scipy.github.io/devdocs/generated/scipy.stats.entropy.html\n",
    "np.set_printoptions(precision=2)\n",
    "# https://en.wikipedia.org/wiki/Wagner%E2%80%93Fischer_algorithm\n",
    "# Original Paper http://citeseerx.ist.psu.edu/viewdoc/download?doi=10.1.1.367.5281&rep=rep1&type=pdf\n",
    "deletion_cost = 1\n",
    "insertion_cost = 1\n",
    "substitution_cost = 1\n",
    "def fisher_wagner(line1, line2):\n",
    "    #print(\"Fisher Wagner Distance: %s => %s\"%(line1,line2))\n",
    "    #print(\"Operations:\")\n",
    "    #print(\"\\ti(X) means that character 'X' gets inserted in the resulting string at the current position\")\n",
    "    #print(\"\\tn(X,X) means that two charcters were equal, no operation required\")\n",
    "    #print(\"\\ts(X,Y) means that the character 'X' gets substituted with 'Y' at the current position \")\n",
    "    #print(\"\\td(X) means that character 'X' gets deleted from the current position\")\n",
    "    #print(\"\\tNote: n(,), the noop for comparing empty string to empty string has been ommitted for clarity\")\n",
    "    # distance matrix\n",
    "    d = np.zeros(shape=(len(line1)+1, len(line2)+1))\n",
    "    ops = np.ndarray(shape=(len(line1)+1, len(line2)+1), dtype=np.dtype('S100') )\n",
    "    ops[:] = \"\"  #clear array\n",
    "    # ops[0,0] = \"n( , )\"\n",
    "    for i in range(1,len(line1)+1):\n",
    "            d[i,0] = d[i-1,0] + deletion_cost # the distance of any first string to an empty second string requires i deletions\n",
    "            ops[i, 0] = \"%sd(%c)\"%(ops[i-1,0],line1[i-1])\n",
    "    for j in range(1,len(line2)+1):\n",
    "            d[0, j] = d[0,j-1] + insertion_cost# the distance of any second string to an empty first string\n",
    "            ops[0,j] = \"%si(%c)\"%(ops[0,j-1],line2[j-1])\n",
    "    #print(\"Cost matrix for empty strings\")\n",
    "    #print(d)\n",
    "    #print(\"Operation matrix for empty strings\")\n",
    "    #print(ops)\n",
    "    for j in range(1,len(line2)+1):\n",
    "        for i in range(1,len(line1)+1):\n",
    "                char1 = line1[i-1] # because strings in python are also zero indexed\n",
    "                char2 = line2[j-1] # because strings in python are also zero indexed\n",
    "                #print(\"\\nStep(i=%i,j=%i)\"%(i, j))\n",
    "                #print(\"Goal: %s => %s\"%(line1[0:i],line2[0:j]))\n",
    "                #print(\"Comparing: '%s' to '%s'\"%(char1, char2))\n",
    "                if char1 == char2:\n",
    "                    #print(\"\\t=> equal, no change required\")\n",
    "                    d[i, j] = d[i-1, j-1]\n",
    "                    ops[i,j]=\"%sn(%c,%c)\"%(ops[i-1, j-1],char1,char2)\n",
    "                else:\n",
    "                    #print(\"\\t=> not equal, need to modify something\")\n",
    "                    del_op_cost = d[i-1,j  ] + deletion_cost     # deletion\n",
    "                    ins_op_cost = d[i  ,j-1] + insertion_cost    # insertion\n",
    "                    subs_op_cost   = d[i-1,j-1] + substitution_cost # substitution_cost\n",
    "                    #print(\"\\tCost of reaching goal via del:  %sd(%c): %i\"%(ops[i-1, j], char1, del_op_cost))\n",
    "                    #print(\"\\tCost of reaching goal via ins:  %si(%c): %i\"%(ops[i ,j-1], char2, ins_op_cost))\n",
    "                    #print(\"\\tCost of reaching goal via sub:  %ss(%c,%c): %i\"%(ops[i-1, j-1], char1, char2, subs_op_cost))\n",
    "                # assign performed operation\n",
    "                    if del_op_cost<ins_op_cost and del_op_cost<subs_op_cost:\n",
    "                                        ops[i,j]=\"%sd(%c)\"%(ops[i-1, j], char1)\n",
    "                    elif ins_op_cost<del_op_cost and ins_op_cost<subs_op_cost:\n",
    "                                        ops[i,j]=\"%si(%c)\"%(ops[i ,j-1], char2)\n",
    "                    else: # substitution\n",
    "                                        ops[i,j]=\"%ss(%c,%c)\"%(ops[i-1, j-1], char1, char2)\n",
    "                    d[i, j] = min(del_op_cost, ins_op_cost, subs_op_cost)\n",
    "                                       \n",
    "                    #print(\"Cost Matrix:\")\n",
    "                    #print(d)\n",
    "                    #print(\"Traces Matrix:\")\n",
    "                    #print(ops)\n",
    "    #print(d)           \n",
    "    return d[len(line1), len(line2)]#3,2\n",
    "#print(fisher_wagner(\"ABV\", \"FV\"))\n"
   ]
  },
  {
   "cell_type": "code",
   "execution_count": null,
   "metadata": {},
   "outputs": [],
   "source": [
    "#import fischer_wagner_explained\n",
    "fisher_wagner('1234', '16')"
   ]
  },
  {
   "cell_type": "code",
   "execution_count": null,
   "metadata": {},
   "outputs": [],
   "source": [
    "template_zeros=freeman_code_zero[6]\n",
    "template_ones=freeman_code_one[7]\n",
    "\n",
    "features=pd.DataFrame(index=np.arange(0,len(zeros_im)+len(ones_im)), columns=['Features0','Features1'])\n",
    "for i in range(len(freeman_code_zero)):\n",
    "    features.iloc[i,0]=fisher_wagner(freeman_code_zero[i],template_zeros)\n",
    "    features.iloc[i,1]=fisher_wagner(freeman_code_zero[i],template_ones)\n",
    "for j in range(len(freeman_code_one)):\n",
    "    features.iloc[i+j+1,0]=fisher_wagner(freeman_code_one[j],template_zeros)\n",
    "    features.iloc[i+j+1,1]=fisher_wagner(freeman_code_one[j],template_ones)\n",
    "        "
   ]
  },
  {
   "cell_type": "code",
   "execution_count": null,
   "metadata": {},
   "outputs": [],
   "source": [
    "features"
   ]
  },
  {
   "cell_type": "code",
   "execution_count": null,
   "metadata": {},
   "outputs": [],
   "source": [
    "ax=features.iloc[0:len(zeros_im),:].plot.scatter(x='Features0',y='Features1',c='Blue')\n",
    "features.iloc[len(zeros_im)::,:].plot.scatter(x='Features0',y='Features1',c='Red',ax=ax)\n",
    "plt.title('Features space')\n",
    "plt.legend(['zeros','ones'])\n",
    "plt.show()"
   ]
  },
  {
   "cell_type": "markdown",
   "metadata": {},
   "source": [
    "The division in classes is really hard and this is due to the completely different shape that both zero and ones have and also due to a bad segmentation."
   ]
  },
  {
   "cell_type": "code",
   "execution_count": null,
   "metadata": {},
   "outputs": [],
   "source": []
  }
 ],
 "metadata": {
  "kernelspec": {
   "display_name": "Python [default]",
   "language": "python",
   "name": "python3"
  },
  "language_info": {
   "codemirror_mode": {
    "name": "ipython",
    "version": 3
   },
   "file_extension": ".py",
   "mimetype": "text/x-python",
   "name": "python",
   "nbconvert_exporter": "python",
   "pygments_lexer": "ipython3",
   "version": "3.6.8"
  }
 },
 "nbformat": 4,
 "nbformat_minor": 2
}
