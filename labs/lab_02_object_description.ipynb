{
 "cells": [
  {
   "cell_type": "markdown",
   "metadata": {},
   "source": [
    "# [IAPR 2019:][iapr2019] Lab 2 ‒  Object description\n",
    "\n",
    "**Author:** first name and last name  \n",
    "**Due date:** 19.04.2019\n",
    "\n",
    "[iapr2019]: https://github.com/LTS5/iapr-2019"
   ]
  },
  {
   "cell_type": "markdown",
   "metadata": {},
   "source": [
    "## Extract relevant data\n",
    "We first need to extract the `lab-02-data.tar.gz` archive.\n",
    "To this end, we use the [tarfile] module from the Python standard library.\n",
    "\n",
    "[tarfile]: https://docs.python.org/3.6/library/tarfile.html"
   ]
  },
  {
   "cell_type": "code",
   "execution_count": 197,
   "metadata": {},
   "outputs": [],
   "source": [
    "import tarfile\n",
    "import os\n",
    "\n",
    "data_base_path = os.path.join(os.pardir, 'data')\n",
    "data_folder = 'lab-02-data'\n",
    "tar_path = os.path.join(data_base_path, data_folder + '.tar.gz')\n",
    "with tarfile.open(tar_path, mode='r:gz') as tar:\n",
    "    tar.extractall(path=data_base_path)"
   ]
  },
  {
   "cell_type": "markdown",
   "metadata": {},
   "source": [
    "## Description\n",
    "In the `lab-02-data/` folder, you will find 28x28 grey-scale pictures of handwritten \"0\" and \"1\".\n",
    "These digits have been extracted from MNIST dataset (http://yann.lecun.com/exdb/mnist/).\n",
    "\n",
    "Your goal is to extract, from each of those images, a 2-dimensional feature vector (i.e. 2 features) and to plot them all on a 2D graph.\n",
    "If you have chosen good features, the vectors of the \"0\"'s should nicely cluster in one part of the plane and those of the \"1\"'s in another.\n",
    "\n",
    "Please try first the Fourier Descriptors.\n",
    "You can make several attempts: e.g. with and without invariance to rotation, translation, scaling, etc.\n",
    "You can also for instance rotate the images and assess the invariance in rotation.\n",
    "\n",
    "**Note:** for the Fourier descriptors, the u_k signal has to be constructed by following the contour point after point.\n",
    "Some pre-processing (image binarization, possibly some Mathematical Morphology) might be useful.\n",
    "\n",
    "Then feel free to try other features, the more you try, the better it will be (for you)."
   ]
  },
  {
   "cell_type": "markdown",
   "metadata": {},
   "source": [
    "### 1.1 Data visualization"
   ]
  },
  {
   "cell_type": "code",
   "execution_count": 3,
   "metadata": {},
   "outputs": [],
   "source": [
    "import skimage\n",
    "from skimage.io import imread_collection\n",
    "import matplotlib.pyplot as plt\n",
    "%matplotlib inline\n",
    "\n",
    "# Load images\n",
    "data_base_path = os.path.join(os.pardir, 'data')\n",
    "data_folder = 'lab-02-data'\n",
    "#  Load zeros\n",
    "zeros_path = os.path.join(data_base_path, data_folder, '0')\n",
    "zeros_names = [nm for nm in os.listdir(zeros_path) if '.png' in nm]  # make sure to only load .png\n",
    "zeros_names.sort()  # sort file names\n",
    "ic = skimage.io.imread_collection([os.path.join(zeros_path, nm) for nm in zeros_names])\n",
    "zeros_im = skimage.io.concatenate_images(ic)\n",
    "#  Load ones\n",
    "ones_path = os.path.join(data_base_path, data_folder, '1')\n",
    "ones_names = [nm for nm in os.listdir(ones_path) if '.png' in nm]  # make sure to only load .png\n",
    "ones_names.sort()  # sort file names\n",
    "ic = skimage.io.imread_collection(([os.path.join(ones_path, nm) for nm in ones_names]))\n",
    "ones_im = skimage.io.concatenate_images(ic)\n",
    "\n",
    "# Plot images\n",
    "fig, axes = plt.subplots(2, len(zeros_im), figsize=(12, 3))\n",
    "for ax, im, nm in zip(axes[0], zeros_im, zeros_names):\n",
    "    ax.imshow(im, cmap='gray')\n",
    "    ax.axis('off')\n",
    "    ax.set_title(nm)\n",
    "for ax, im, nm in zip(axes[1], ones_im, ones_names):\n",
    "    ax.imshow(im, cmap='gray')\n",
    "    ax.axis('off')\n",
    "    ax.set_title(nm)"
   ]
  },
  {
   "cell_type": "markdown",
   "metadata": {},
   "source": [
    "### 1.2 Fourier descriptors\n",
    "Add your implementation and discussion"
   ]
  },
  {
   "cell_type": "code",
   "execution_count": 195,
   "metadata": {
    "collapsed": true
   },
   "outputs": [
    {
     "ename": "ModuleNotFoundError",
     "evalue": "No module named 'cv2'",
     "output_type": "error",
     "traceback": [
      "\u001b[0;31m---------------------------------------------------------------------------\u001b[0m",
      "\u001b[0;31mModuleNotFoundError\u001b[0m                       Traceback (most recent call last)",
      "\u001b[0;32m<ipython-input-195-4027006d1448>\u001b[0m in \u001b[0;36m<module>\u001b[0;34m\u001b[0m\n\u001b[1;32m      1\u001b[0m \u001b[0;31m# Necessary libraries\u001b[0m\u001b[0;34m\u001b[0m\u001b[0;34m\u001b[0m\u001b[0;34m\u001b[0m\u001b[0m\n\u001b[0;32m----> 2\u001b[0;31m \u001b[0;32mimport\u001b[0m \u001b[0mcv2\u001b[0m\u001b[0;34m\u001b[0m\u001b[0;34m\u001b[0m\u001b[0m\n\u001b[0m\u001b[1;32m      3\u001b[0m \u001b[0;32mimport\u001b[0m \u001b[0mnumpy\u001b[0m \u001b[0;32mas\u001b[0m \u001b[0mnp\u001b[0m\u001b[0;34m\u001b[0m\u001b[0;34m\u001b[0m\u001b[0m\n",
      "\u001b[0;31mModuleNotFoundError\u001b[0m: No module named 'cv2'"
     ]
    }
   ],
   "source": [
    "# Necessary libraries\n",
    "import cv2\n",
    "import numpy as np"
   ]
  },
  {
   "cell_type": "code",
   "execution_count": 308,
   "metadata": {},
   "outputs": [],
   "source": [
    "def find_fourier_descriptor(img, l = 1):\n",
    "    \"\"\"\n",
    "    Find the l-th fourier descriptor for given img\n",
    "    Params: img: np.array\n",
    "            l: int\n",
    "    Return: (x, y)\n",
    "    \"\"\"\n",
    "\n",
    "    # Get test img\n",
    "    test_img = img\n",
    "\n",
    "    # Convert gray img to binary img\n",
    "    thrs = (test_img > 0) * 255\n",
    "    thrs = thrs.astype(np.uint8)\n",
    "\n",
    "    # Find contour\n",
    "    contours, hier = cv2.findContours(thrs, cv2.RETR_TREE, cv2.CHAIN_APPROX_NONE)\n",
    "\n",
    "    # For simplicity we only take the longest contour\n",
    "    contour = sorted(contours, key = lambda x: len(x))[-1]\n",
    "\n",
    "    # Normalization\n",
    "    contour = contour.reshape(-1, 2).T\n",
    "\n",
    "    contour -= np.mean(contour, axis = 1).astype(np.int).reshape(2, 1)\n",
    "\n",
    "    # Get length of contour\n",
    "    N = len(contour[0])\n",
    "\n",
    "    # Get real part of contour\n",
    "    real = contour[0]\n",
    "\n",
    "    # Get imaginary part of contour\n",
    "    imginary = contour[1] * 1j\n",
    "\n",
    "    # Build Fourier descriptor for the contour\n",
    "\n",
    "    # First Fourier descriptor\n",
    "    f1 = np.sum((real + imginary) * np.exp(2 * np.pi * 1j / N * np.arange(N)))\n",
    "\n",
    "    # Second Fourier descriptor\n",
    "    # f2 = np.sum((real + imginary) * np.exp(2 * np.pi * 1j / N * np.arange(0, 2 * N, 2)))\n",
    "\n",
    "    # Return real and imaginary part of f1\n",
    "    return f1.real, f1.imag"
   ]
  },
  {
   "cell_type": "code",
   "execution_count": 309,
   "metadata": {},
   "outputs": [],
   "source": [
    "# Get 1st fourier descriptor for all img with label zero\n",
    "zero_f1 = np.asarray([find_fourier_descriptor(img) for img in zeros_im])"
   ]
  },
  {
   "cell_type": "code",
   "execution_count": 310,
   "metadata": {},
   "outputs": [],
   "source": [
    "# Get 1st fourier descriptor for all img with label one\n",
    "one_f1 = np.asarray([find_fourier_descriptor(img) for img in ones_im])"
   ]
  },
  {
   "cell_type": "code",
   "execution_count": 311,
   "metadata": {},
   "outputs": [
    {
     "data": {
      "image/png": "[encoded data removed]",
      "text/plain": [
       "<Figure size 720x432 with 1 Axes>"
      ]
     },
     "metadata": {},
     "output_type": "display_data"
    }
   ],
   "source": [
    "# Visualize the results\n",
    "fig = plt.figure(figsize = (10, 6))\n",
    "ax = fig.add_subplot(111)\n",
    "ax.scatter(zero_f1[:, 0], zero_f1[:, 1], c = 'steelblue', label = 'Zero')\n",
    "ax.scatter(one_f1[:, 0], one_f1[:, 1], c = 'red', label = 'One')\n",
    "ax.legend()\n",
    "ax.grid(True)"
   ]
  },
  {
   "cell_type": "markdown",
   "metadata": {},
   "source": [
    "To check the robustness of our feature generator, we conduct rotation to the img. Notice that translation is not necessary since we have done normalization in our implementation."
   ]
  },
  {
   "cell_type": "code",
   "execution_count": 312,
   "metadata": {},
   "outputs": [],
   "source": [
    "# Get center \n",
    "center = zeros_im[0].shape\n",
    "center = (center[0] / 2, center[1] / 2)"
   ]
  },
  {
   "cell_type": "code",
   "execution_count": 313,
   "metadata": {},
   "outputs": [],
   "source": [
    "def rotate_img(img, deg = 90):\n",
    "    \"\"\"\n",
    "    Rotate img by given deg\n",
    "    Param:  img: np.array\n",
    "            deg: int\n",
    "    Return: rorated_img: np.array\n",
    "    \"\"\"\n",
    "    \n",
    "    # Get center of image\n",
    "    center = img.shape\n",
    "    center = (center[0] / 2, center[1] / 2)\n",
    "    \n",
    "    return cv2.warpAffine(img, cv2.getRotationMatrix2D(center, deg, 1.0), img.shape)"
   ]
  },
  {
   "cell_type": "code",
   "execution_count": 196,
   "metadata": {
    "collapsed": true
   },
   "outputs": [
    {
     "ename": "NameError",
     "evalue": "name 'rotate_img' is not defined",
     "output_type": "error",
     "traceback": [
      "\u001b[0;31m---------------------------------------------------------------------------\u001b[0m",
      "\u001b[0;31mNameError\u001b[0m                                 Traceback (most recent call last)",
      "\u001b[0;32m<ipython-input-196-adc6584839b5>\u001b[0m in \u001b[0;36m<module>\u001b[0;34m\u001b[0m\n\u001b[1;32m      1\u001b[0m \u001b[0;31m# Rotation\u001b[0m\u001b[0;34m\u001b[0m\u001b[0;34m\u001b[0m\u001b[0;34m\u001b[0m\u001b[0m\n\u001b[0;32m----> 2\u001b[0;31m rotated_zeros_im = [rotate_img(img, deg) for img in zeros_im \\\n\u001b[0m\u001b[1;32m      3\u001b[0m                                            for deg in [90, 180, 270]]\n\u001b[1;32m      4\u001b[0m \u001b[0;34m\u001b[0m\u001b[0m\n\u001b[1;32m      5\u001b[0m rotated_ones_im = [rotate_img(img, deg) for img in ones_im \\\n",
      "\u001b[0;32m<ipython-input-196-adc6584839b5>\u001b[0m in \u001b[0;36m<listcomp>\u001b[0;34m(.0)\u001b[0m\n\u001b[1;32m      1\u001b[0m \u001b[0;31m# Rotation\u001b[0m\u001b[0;34m\u001b[0m\u001b[0;34m\u001b[0m\u001b[0;34m\u001b[0m\u001b[0m\n\u001b[1;32m      2\u001b[0m rotated_zeros_im = [rotate_img(img, deg) for img in zeros_im \\\n\u001b[0;32m----> 3\u001b[0;31m                                            for deg in [90, 180, 270]]\n\u001b[0m\u001b[1;32m      4\u001b[0m \u001b[0;34m\u001b[0m\u001b[0m\n\u001b[1;32m      5\u001b[0m rotated_ones_im = [rotate_img(img, deg) for img in ones_im \\\n",
      "\u001b[0;31mNameError\u001b[0m: name 'rotate_img' is not defined"
     ]
    }
   ],
   "source": [
    "# Rotation\n",
    "rotated_zeros_im = [rotate_img(img, deg) for img in zeros_im \\\n",
    "                                           for deg in [90, 180, 270]]\n",
    "\n",
    "rotated_ones_im = [rotate_img(img, deg) for img in ones_im \\\n",
    "                                          for deg in [90, 180, 270]]"
   ]
  },
  {
   "cell_type": "code",
   "execution_count": 315,
   "metadata": {},
   "outputs": [],
   "source": [
    "# Compute f1 for augmented zeros images\n",
    "zero_f1_aug = np.asarray([find_fourier_descriptor(img) for img in rotated_zeros_im + list(zeros_im)])\n",
    "\n",
    "# Compute f1 for augmented ones images\n",
    "one_f1_aug = np.asarray([find_fourier_descriptor(img) for img in rotated_ones_im + list(ones_im)])"
   ]
  },
  {
   "cell_type": "code",
   "execution_count": 316,
   "metadata": {},
   "outputs": [
    {
     "data": {
      "text/plain": [
       "<matplotlib.legend.Legend at 0x7f2df2f56278>"
      ]
     },
     "execution_count": 316,
     "metadata": {},
     "output_type": "execute_result"
    },
    {
     "data": {
      "image/png": "[encoded data removed]",
      "text/plain": [
       "<Figure size 720x432 with 1 Axes>"
      ]
     },
     "metadata": {},
     "output_type": "display_data"
    }
   ],
   "source": [
    "# Visualize the results\n",
    "fig = plt.figure(figsize = (10, 6))\n",
    "ax = fig.add_subplot(111)\n",
    "ax.scatter(zero_f1_aug[:, 0], zero_f1_aug[:, 1], c = 'steelblue', label = 'zero')\n",
    "ax.scatter(one_f1_aug[:, 0], one_f1_aug[:, 1], c = 'red', label = 'one')\n",
    "ax.legend()"
   ]
  },
  {
   "cell_type": "markdown",
   "metadata": {},
   "source": [
    "### 1.3 Additional method(s)\n",
    "Add your implementation and discussion"
   ]
  },
  {
   "cell_type": "code",
   "execution_count": 24,
   "metadata": {},
   "outputs": [],
   "source": [
    "# Import necessary libraries\n",
    "import keras\n",
    "from keras.layers import Dense\n",
    "from keras import activations\n",
    "from keras.models import Sequential\n",
    "from keras.utils import np_utils\n",
    "from keras.layers.core import Dense, Dropout, Activation\n",
    "\n",
    "from sklearn.decomposition import PCA"
   ]
  },
  {
   "cell_type": "markdown",
   "metadata": {},
   "source": [
    "### 1.3.1 PCA"
   ]
  },
  {
   "cell_type": "markdown",
   "metadata": {},
   "source": [
    "We begin with linear dimensionality reduction, namely PCA.\n",
    "\n",
    "The flatted img is regarded as the original features."
   ]
  },
  {
   "cell_type": "code",
   "execution_count": 329,
   "metadata": {},
   "outputs": [],
   "source": [
    "# Flat imgs\n",
    "flatten_zeros = [img.flatten() for img in list(zeros_im) + rotated_zeros_im]\n",
    "\n",
    "flatten_ones = [img.flatten() for img in list(ones_im) + rotated_ones_im]"
   ]
  },
  {
   "cell_type": "code",
   "execution_count": 330,
   "metadata": {},
   "outputs": [],
   "source": [
    "# Conduct PCA\n",
    "pca = PCA(n_components = 2)\n",
    "\n",
    "results = pca.fit_transform(flatten_zeros + flatten_ones)\n",
    "\n",
    "projected_zeros = results[: len(flatten_zeros)]\n",
    "\n",
    "projected_ones = results[len(flatten_ones): ]"
   ]
  },
  {
   "cell_type": "code",
   "execution_count": 331,
   "metadata": {},
   "outputs": [
    {
     "data": {
      "text/plain": [
       "<matplotlib.legend.Legend at 0x7f2ddb792198>"
      ]
     },
     "execution_count": 331,
     "metadata": {},
     "output_type": "execute_result"
    },
    {
     "data": {
      "image/png": "[encoded data removed]",
      "text/plain": [
       "<Figure size 720x432 with 1 Axes>"
      ]
     },
     "metadata": {},
     "output_type": "display_data"
    }
   ],
   "source": [
    "# Visualize\n",
    "fig = plt.figure(figsize = (10, 6))\n",
    "ax = fig.add_subplot(111)\n",
    "ax.scatter(projected_zeros[:, 0], projected_zeros[:, 1], c = 'steelblue', label = 'zero')\n",
    "ax.scatter(projected_ones[:, 0], projected_ones[:, 1], c = 'red', label = 'one')\n",
    "ax.legend()"
   ]
  },
  {
   "cell_type": "markdown",
   "metadata": {},
   "source": [
    "### 1.3.2 Single layer ANN"
   ]
  },
  {
   "cell_type": "code",
   "execution_count": 5,
   "metadata": {},
   "outputs": [],
   "source": [
    "rotated_zeros_im = [img.T[: : -1, : :] for img in zeros_im] + \\\n",
    "                    [img[: : -1, : : -1] for img in zeros_im] + \\\n",
    "                    [img.T[: :, : : -1] for img in zeros_im]"
   ]
  },
  {
   "cell_type": "code",
   "execution_count": 6,
   "metadata": {},
   "outputs": [],
   "source": [
    "rotated_zeros_im += list(zeros_im)"
   ]
  },
  {
   "cell_type": "code",
   "execution_count": 7,
   "metadata": {},
   "outputs": [],
   "source": [
    "rotated_ones_im = [img.T[: : -1, : :] for img in ones_im] + \\\n",
    "                    [img[: : -1, : : -1] for img in ones_im] + \\\n",
    "                    [img.T[: :, : : -1] for img in ones_im]"
   ]
  },
  {
   "cell_type": "code",
   "execution_count": 8,
   "metadata": {},
   "outputs": [],
   "source": [
    "rotated_ones_im += list(ones_im)"
   ]
  },
  {
   "cell_type": "code",
   "execution_count": 172,
   "metadata": {},
   "outputs": [],
   "source": [
    "# Build model\n",
    "# This trivial model is collected from the internet\n",
    "model = Sequential()\n",
    "model.add(Dense(512, input_shape=(784,)))\n",
    "model.add(Activation('relu')) # An \"activation\" is just a non-linear function applied to the output\n",
    "                              # of the layer above. Here, with a \"rectified linear unit\",\n",
    "                              # we clamp all values below 0 to 0.\n",
    "                           \n",
    "model.add(Dropout(0.2))   # Dropout helps protect the model from memorizing or \"overfitting\" the training data\n",
    "model.add(Dense(512))\n",
    "model.add(Activation('relu'))\n",
    "model.add(Dropout(0.2))\n",
    "model.add(Dense(2))\n",
    "model.add(Activation('softmax')) # This special \"softmax\" activation among other things,\n",
    "\n",
    "model.compile(loss = 'mean_squared_error',\n",
    "             optimizer = 'adam',\n",
    "             metrics = ['accuracy'])"
   ]
  },
  {
   "cell_type": "code",
   "execution_count": 169,
   "metadata": {},
   "outputs": [],
   "source": [
    "# Build x\n",
    "x = np.asarray((rotated_zeros_im + rotated_ones_im)).reshape((-1, zeros_im[0].shape[0] * \\\n",
    "                                                                     zeros_im[0].shape[1]))\n",
    "\n",
    "# Normalize x \n",
    "x = x / 255\n",
    "x -= np.mean(x)\n",
    "x /= np.std(x)"
   ]
  },
  {
   "cell_type": "code",
   "execution_count": 170,
   "metadata": {},
   "outputs": [],
   "source": [
    "# Build y\n",
    "y = np.asarray([0] * len(rotated_zeros_im) + [1] * len(rotated_ones_im))\n",
    "\n",
    "# Convert y to categorical\n",
    "y = np_utils.to_categorical(y, 2)"
   ]
  },
  {
   "cell_type": "code",
   "execution_count": 171,
   "metadata": {},
   "outputs": [],
   "source": [
    "# Shuffle data\n",
    "mask = np.random.permutation(len(x))\n",
    "\n",
    "x = x[mask]\n",
    "y = y[mask]"
   ]
  },
  {
   "cell_type": "code",
   "execution_count": 174,
   "metadata": {},
   "outputs": [
    {
     "name": "stdout",
     "output_type": "stream",
     "text": [
      "Epoch 1/10\n",
      "80/80 [==============================] - 0s 445us/step - loss: 3.2340e-08 - acc: 1.0000\n",
      "Epoch 2/10\n",
      "80/80 [==============================] - 0s 438us/step - loss: 7.5511e-07 - acc: 1.0000\n",
      "Epoch 3/10\n",
      "80/80 [==============================] - 0s 486us/step - loss: 1.2380e-08 - acc: 1.0000\n",
      "Epoch 4/10\n",
      "80/80 [==============================] - 0s 543us/step - loss: 8.4531e-10 - acc: 1.0000\n",
      "Epoch 5/10\n",
      "80/80 [==============================] - 0s 616us/step - loss: 1.8766e-08 - acc: 1.0000\n",
      "Epoch 6/10\n",
      "80/80 [==============================] - 0s 607us/step - loss: 2.0788e-10 - acc: 1.0000\n",
      "Epoch 7/10\n",
      "80/80 [==============================] - 0s 560us/step - loss: 5.6586e-07 - acc: 1.0000\n",
      "Epoch 8/10\n",
      "80/80 [==============================] - 0s 663us/step - loss: 4.0469e-09 - acc: 1.0000\n",
      "Epoch 9/10\n",
      "80/80 [==============================] - 0s 568us/step - loss: 2.3232e-09 - acc: 1.0000\n",
      "Epoch 10/10\n",
      "80/80 [==============================] - 0s 550us/step - loss: 6.2540e-09 - acc: 1.0000\n"
     ]
    },
    {
     "data": {
      "text/plain": [
       "<keras.callbacks.History at 0x7f5fd1ac7f98>"
      ]
     },
     "execution_count": 174,
     "metadata": {},
     "output_type": "execute_result"
    }
   ],
   "source": [
    "# Train\n",
    "model.fit(x, y, epochs = 10)"
   ]
  },
  {
   "cell_type": "code",
   "execution_count": 176,
   "metadata": {},
   "outputs": [],
   "source": [
    "# Get last layer as feature vector\n",
    "feature_vec = model.predict_proba(x)"
   ]
  },
  {
   "cell_type": "code",
   "execution_count": 191,
   "metadata": {},
   "outputs": [],
   "source": [
    "# Get zero and one feature vectors\n",
    "\n",
    "zero_feature_vec = feature_vec[y[::, 1] == 0]\n",
    "\n",
    "one_feature_vec = feature_vec[y[::, 1] == 1]"
   ]
  },
  {
   "cell_type": "code",
   "execution_count": 193,
   "metadata": {},
   "outputs": [
    {
     "data": {
      "text/plain": [
       "<matplotlib.legend.Legend at 0x7f5fd12f44a8>"
      ]
     },
     "execution_count": 193,
     "metadata": {},
     "output_type": "execute_result"
    },
    {
     "data": {
      "image/png": "[encoded data removed]",
      "text/plain": [
       "<Figure size 720x432 with 1 Axes>"
      ]
     },
     "metadata": {
      "needs_background": "light"
     },
     "output_type": "display_data"
    }
   ],
   "source": [
    "# Visualize feature vector\n",
    "fig = plt.figure(figsize = (10, 6))\n",
    "ax = fig.add_subplot(111)\n",
    "ax.scatter(zero_feature_vec[::, 0], zero_feature_vec[::, 1], c = 'steelblue', label = 'zero')\n",
    "ax.scatter(one_feature_vec[::, 0], one_feature_vec[::, 1], c = 'red', label = 'one')\n",
    "ax.legend()"
   ]
  },
  {
   "cell_type": "markdown",
   "metadata": {},
   "source": [
    "Notice that this feature encoding seems to be perfect. This is due to the lack of training data, which may lead to severe overfitting.\n",
    "\n",
    "This disadvantage can be overcome by bringing more data. As the success of neural network on recognition on MNIST dataset shows, with sufficient amount of data, we can encode the figures to any dimension properly."
   ]
  },
  {
   "cell_type": "code",
   "execution_count": null,
   "metadata": {},
   "outputs": [],
   "source": []
  }
 ],
 "metadata": {
  "kernelspec": {
   "display_name": "Python 3",
   "language": "python",
   "name": "python3"
  },
  "language_info": {
   "codemirror_mode": {
    "name": "ipython",
    "version": 3
   },
   "file_extension": ".py",
   "mimetype": "text/x-python",
   "name": "python",
   "nbconvert_exporter": "python",
   "pygments_lexer": "ipython3",
   "version": "3.6.7"
  }
 },
 "nbformat": 4,
 "nbformat_minor": 2
}
